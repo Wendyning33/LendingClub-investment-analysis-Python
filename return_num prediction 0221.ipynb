{
 "cells": [
  {
   "cell_type": "code",
   "execution_count": 1,
   "metadata": {},
   "outputs": [],
   "source": [
    "import pandas as pd\n",
    "import numpy as np\n",
    "import seaborn as sns\n",
    "import matplotlib.pyplot as plt\n",
    "import statsmodels.api as sm\n",
    "import sklearn as sk\n",
    "from sklearn.model_selection import train_test_split\n",
    "from sklearn.model_selection import cross_val_score\n",
    "from sklearn.linear_model import LogisticRegression, LinearRegression\n",
    "from sklearn.neighbors import KNeighborsClassifier\n",
    "from sklearn.tree import DecisionTreeRegressor\n",
    "from sklearn.ensemble import RandomForestRegressor\n",
    "from sklearn.metrics import roc_curve, auc, mean_absolute_error"
   ]
  },
  {
   "cell_type": "code",
   "execution_count": 2,
   "metadata": {},
   "outputs": [
    {
     "data": {
      "text/plain": [
       "Index(['Unnamed: 0', 'id', 'loan_amnt', 'funded_amnt', 'term', 'int_rate',\n",
       "       'installment', 'emp_length', 'annual return', 'annual_return_real',\n",
       "       'annual_return_rate', 'annual_inc', 'verification_status', 'issue_d',\n",
       "       'issue_year', 'loan_status', 'dti', 'delinq_2yrs', 'earliest_cr_line',\n",
       "       'open_acc', 'pub_rec', 'fico_range_high', 'fico_range_low', 'fico_avg',\n",
       "       'revol_bal', 'revol_util', 'total_pymnt', 'last_pymnt_d', 'recoveries',\n",
       "       'loan_length', 'term_num', 'return_num', 'default', 'B', 'C', 'D', 'E',\n",
       "       'F', 'G', 'MORTGAGE', 'NONE', 'OTHER', 'OWN', 'RENT', 'credit_card',\n",
       "       'debt_consolidation', 'educational', 'home_improvement', 'house',\n",
       "       'major_purchase', 'medical', 'moving', 'other', 'renewable_energy',\n",
       "       'small_business', 'vacation', 'wedding'],\n",
       "      dtype='object')"
      ]
     },
     "execution_count": 2,
     "metadata": {},
     "output_type": "execute_result"
    }
   ],
   "source": [
    "lc = pd.read_csv(\"lc_dummy原始数据dummy后.csv\")\n",
    "lc.columns"
   ]
  },
  {
   "cell_type": "code",
   "execution_count": 14,
   "metadata": {},
   "outputs": [],
   "source": [
    "X = lc[['funded_amnt','int_rate','emp_length','annual_inc','issue_year', 'dti','open_acc','pub_rec'\n",
    "       , 'fico_avg','revol_bal', 'revol_util','term_num','B', 'C', 'D', 'E','F', 'G', 'MORTGAGE',\n",
    "       'NONE', 'OTHER', 'OWN', 'RENT', 'credit_card','debt_consolidation', 'educational', 'home_improvement'\n",
    "       , 'house','major_purchase', 'medical', 'moving', 'other', 'renewable_energy','small_business', 'vacation', 'wedding']]\n",
    "y = lc['return_num']\n",
    "X_train,X_test,y_train,y_test = train_test_split(X,y,test_size=0.3,random_state=3)"
   ]
  },
  {
   "cell_type": "code",
   "execution_count": 15,
   "metadata": {},
   "outputs": [
    {
     "name": "stdout",
     "output_type": "stream",
     "text": [
      "                            OLS Regression Results                            \n",
      "==============================================================================\n",
      "Dep. Variable:             return_num   R-squared:                       0.060\n",
      "Model:                            OLS   Adj. R-squared:                  0.058\n",
      "Method:                 Least Squares   F-statistic:                     31.09\n",
      "Date:                Fri, 21 Feb 2020   Prob (F-statistic):          1.48e-204\n",
      "Time:                        22:48:12   Log-Likelihood:                 23359.\n",
      "No. Observations:               17483   AIC:                        -4.664e+04\n",
      "Df Residuals:                   17446   BIC:                        -4.636e+04\n",
      "Df Model:                          36                                         \n",
      "Covariance Type:            nonrobust                                         \n",
      "======================================================================================\n",
      "                         coef    std err          t      P>|t|      [0.025      0.975]\n",
      "--------------------------------------------------------------------------------------\n",
      "const                 15.7658      0.679     23.220      0.000      14.435      17.097\n",
      "funded_amnt        -2.284e-07   7.24e-08     -3.155      0.002    -3.7e-07   -8.65e-08\n",
      "int_rate               0.0006      0.000      1.744      0.081   -7.67e-05       0.001\n",
      "emp_length             0.0004      0.000      2.784      0.005       0.000       0.001\n",
      "annual_inc          4.447e-08   1.09e-08      4.089      0.000    2.32e-08    6.58e-08\n",
      "issue_year            -0.0078      0.000    -23.305      0.000      -0.008      -0.007\n",
      "dti                   -0.0003   5.61e-05     -5.926      0.000      -0.000      -0.000\n",
      "open_acc              -0.0003      0.000     -2.830      0.005      -0.000   -8.76e-05\n",
      "pub_rec               -0.0016      0.001     -1.908      0.056      -0.003    4.27e-05\n",
      "fico_avg            3.304e-05    2.1e-05      1.570      0.116    -8.2e-06    7.43e-05\n",
      "revol_bal             1.3e-08   2.38e-08      0.545      0.585   -3.37e-08    5.97e-08\n",
      "revol_util          5.063e-05   2.52e-05      2.010      0.044    1.25e-06       0.000\n",
      "term_num              -0.0003   5.72e-05     -6.080      0.000      -0.000      -0.000\n",
      "B                      0.0017      0.002      0.866      0.387      -0.002       0.006\n",
      "C                     -0.0007      0.003     -0.232      0.817      -0.006       0.005\n",
      "D                     -0.0095      0.004     -2.333      0.020      -0.017      -0.002\n",
      "E                     -0.0145      0.005     -2.773      0.006      -0.025      -0.004\n",
      "F                     -0.0247      0.007     -3.565      0.000      -0.038      -0.011\n",
      "G                     -0.0290      0.009     -3.133      0.002      -0.047      -0.011\n",
      "MORTGAGE               0.0012      0.032      0.038      0.969      -0.062       0.064\n",
      "NONE                   0.0552      0.055      0.995      0.320      -0.053       0.164\n",
      "OTHER                  0.0752      0.055      1.359      0.174      -0.033       0.184\n",
      "OWN                   -0.0041      0.032     -0.126      0.900      -0.067       0.059\n",
      "RENT                  -0.0072      0.032     -0.223      0.824      -0.070       0.056\n",
      "credit_card            0.0066      0.005      1.357      0.175      -0.003       0.016\n",
      "debt_consolidation     0.0069      0.005      1.436      0.151      -0.003       0.016\n",
      "educational           -0.0002      0.037     -0.007      0.995      -0.073       0.072\n",
      "home_improvement       0.0048      0.005      0.944      0.345      -0.005       0.015\n",
      "house                 -0.0050      0.009     -0.568      0.570      -0.022       0.012\n",
      "major_purchase         0.0070      0.006      1.220      0.223      -0.004       0.018\n",
      "medical               -0.0007      0.007     -0.099      0.921      -0.014       0.013\n",
      "moving                 0.0008      0.008      0.110      0.913      -0.014       0.016\n",
      "other                  0.0083      0.005      1.611      0.107      -0.002       0.018\n",
      "renewable_energy      -0.0089      0.015     -0.596      0.551      -0.038       0.020\n",
      "small_business        -0.0046      0.006     -0.704      0.481      -0.017       0.008\n",
      "vacation               0.0136      0.008      1.802      0.072      -0.001       0.028\n",
      "wedding                0.0020      0.011      0.189      0.850      -0.019       0.023\n",
      "==============================================================================\n",
      "Omnibus:                     4243.428   Durbin-Watson:                   2.011\n",
      "Prob(Omnibus):                  0.000   Jarque-Bera (JB):             8465.203\n",
      "Skew:                          -1.477   Prob(JB):                         0.00\n",
      "Kurtosis:                       4.701   Cond. No.                     1.35e+08\n",
      "==============================================================================\n",
      "\n",
      "Warnings:\n",
      "[1] Standard Errors assume that the covariance matrix of the errors is correctly specified.\n",
      "[2] The condition number is large, 1.35e+08. This might indicate that there are\n",
      "strong multicollinearity or other numerical problems.\n"
     ]
    }
   ],
   "source": [
    "#linear regression\n",
    "x2=sm.add_constant(X_train)\n",
    "est=sm.OLS(y_train,x2)  #OLS最小二乘法\n",
    "est2=est.fit()\n",
    "print(est2.summary())#线性回归"
   ]
  },
  {
   "cell_type": "code",
   "execution_count": 16,
   "metadata": {},
   "outputs": [],
   "source": [
    "#important features(p_values<0.05)\n",
    "X2 = lc[['emp_length','annual_inc','issue_year', 'dti','open_acc','term_num', 'D', 'E','F', 'G']]\n",
    "y2 = lc['return_num']\n",
    "X2_train,X2_test,y2_train,y2_test = train_test_split(X2,y2,test_size=0.3,random_state=3)"
   ]
  },
  {
   "cell_type": "code",
   "execution_count": 17,
   "metadata": {},
   "outputs": [
    {
     "name": "stdout",
     "output_type": "stream",
     "text": [
      "                            OLS Regression Results                            \n",
      "==============================================================================\n",
      "Dep. Variable:             return_num   R-squared:                       0.054\n",
      "Model:                            OLS   Adj. R-squared:                  0.054\n",
      "Method:                 Least Squares   F-statistic:                     100.7\n",
      "Date:                Fri, 21 Feb 2020   Prob (F-statistic):          6.23e-204\n",
      "Time:                        22:48:17   Log-Likelihood:                 23305.\n",
      "No. Observations:               17483   AIC:                        -4.659e+04\n",
      "Df Residuals:                   17472   BIC:                        -4.650e+04\n",
      "Df Model:                          10                                         \n",
      "Covariance Type:            nonrobust                                         \n",
      "==============================================================================\n",
      "                 coef    std err          t      P>|t|      [0.025      0.975]\n",
      "------------------------------------------------------------------------------\n",
      "const         16.2454      0.649     25.019      0.000      14.973      17.518\n",
      "emp_length     0.0005      0.000      4.059      0.000       0.000       0.001\n",
      "annual_inc  4.361e-08   9.49e-09      4.597      0.000     2.5e-08    6.22e-08\n",
      "issue_year    -0.0080      0.000    -24.934      0.000      -0.009      -0.007\n",
      "dti           -0.0003    5.4e-05     -5.164      0.000      -0.000      -0.000\n",
      "open_acc      -0.0003   9.59e-05     -3.184      0.001      -0.000      -0.000\n",
      "term_num      -0.0003   5.14e-05     -6.291      0.000      -0.000      -0.000\n",
      "D             -0.0075      0.001     -5.371      0.000      -0.010      -0.005\n",
      "E             -0.0114      0.002     -5.894      0.000      -0.015      -0.008\n",
      "F             -0.0194      0.003     -6.157      0.000      -0.026      -0.013\n",
      "G             -0.0220      0.006     -3.843      0.000      -0.033      -0.011\n",
      "==============================================================================\n",
      "Omnibus:                     4251.374   Durbin-Watson:                   2.010\n",
      "Prob(Omnibus):                  0.000   Jarque-Bera (JB):             8475.802\n",
      "Skew:                          -1.481   Prob(JB):                         0.00\n",
      "Kurtosis:                       4.691   Cond. No.                     1.25e+08\n",
      "==============================================================================\n",
      "\n",
      "Warnings:\n",
      "[1] Standard Errors assume that the covariance matrix of the errors is correctly specified.\n",
      "[2] The condition number is large, 1.25e+08. This might indicate that there are\n",
      "strong multicollinearity or other numerical problems.\n"
     ]
    }
   ],
   "source": [
    "#linear regression\n",
    "xt=sm.add_constant(X2_train)\n",
    "est=sm.OLS(y2_train,xt)  #OLS最小二乘法\n",
    "est2=est.fit()\n",
    "print(est2.summary())#线性回归"
   ]
  },
  {
   "cell_type": "code",
   "execution_count": 19,
   "metadata": {},
   "outputs": [],
   "source": [
    "X1 = lc[['emp_length','annual_inc','issue_year', 'dti','open_acc','term_num', 'D', 'E','F', 'G','return_num']]\n",
    "y1 = lc['return_num']\n",
    "X1_train,X1_test,y1_train,y1_test = train_test_split(X1,y1,test_size=0.3,random_state=3)"
   ]
  },
  {
   "cell_type": "code",
   "execution_count": 23,
   "metadata": {},
   "outputs": [
    {
     "data": {
      "text/html": [
       "<div>\n",
       "<style scoped>\n",
       "    .dataframe tbody tr th:only-of-type {\n",
       "        vertical-align: middle;\n",
       "    }\n",
       "\n",
       "    .dataframe tbody tr th {\n",
       "        vertical-align: top;\n",
       "    }\n",
       "\n",
       "    .dataframe thead th {\n",
       "        text-align: right;\n",
       "    }\n",
       "</style>\n",
       "<table border=\"1\" class=\"dataframe\">\n",
       "  <thead>\n",
       "    <tr style=\"text-align: right;\">\n",
       "      <th></th>\n",
       "      <th>emp_length</th>\n",
       "      <th>annual_inc</th>\n",
       "      <th>issue_year</th>\n",
       "      <th>dti</th>\n",
       "      <th>open_acc</th>\n",
       "      <th>term_num</th>\n",
       "      <th>D</th>\n",
       "      <th>E</th>\n",
       "      <th>F</th>\n",
       "      <th>G</th>\n",
       "      <th>return_num</th>\n",
       "      <th>0</th>\n",
       "    </tr>\n",
       "  </thead>\n",
       "  <tbody>\n",
       "    <tr>\n",
       "      <th>17360</th>\n",
       "      <td>0.0045</td>\n",
       "      <td>0.003053</td>\n",
       "      <td>-16.120</td>\n",
       "      <td>-0.001815</td>\n",
       "      <td>-0.0015</td>\n",
       "      <td>-0.0108</td>\n",
       "      <td>-0.0000</td>\n",
       "      <td>-0.0</td>\n",
       "      <td>-0.0000</td>\n",
       "      <td>-0.0</td>\n",
       "      <td>0.066295</td>\n",
       "      <td>0.118838</td>\n",
       "    </tr>\n",
       "    <tr>\n",
       "      <th>10661</th>\n",
       "      <td>0.0035</td>\n",
       "      <td>0.000872</td>\n",
       "      <td>-16.136</td>\n",
       "      <td>-0.006645</td>\n",
       "      <td>-0.0021</td>\n",
       "      <td>-0.0108</td>\n",
       "      <td>-0.0000</td>\n",
       "      <td>-0.0</td>\n",
       "      <td>-0.0000</td>\n",
       "      <td>-0.0</td>\n",
       "      <td>0.034340</td>\n",
       "      <td>0.094227</td>\n",
       "    </tr>\n",
       "    <tr>\n",
       "      <th>9317</th>\n",
       "      <td>0.0010</td>\n",
       "      <td>0.003271</td>\n",
       "      <td>-16.120</td>\n",
       "      <td>-0.003738</td>\n",
       "      <td>-0.0057</td>\n",
       "      <td>-0.0108</td>\n",
       "      <td>-0.0000</td>\n",
       "      <td>-0.0</td>\n",
       "      <td>-0.0000</td>\n",
       "      <td>-0.0</td>\n",
       "      <td>0.044112</td>\n",
       "      <td>0.109433</td>\n",
       "    </tr>\n",
       "    <tr>\n",
       "      <th>22469</th>\n",
       "      <td>0.0050</td>\n",
       "      <td>0.003140</td>\n",
       "      <td>-16.120</td>\n",
       "      <td>-0.008238</td>\n",
       "      <td>-0.0063</td>\n",
       "      <td>-0.0108</td>\n",
       "      <td>-0.0075</td>\n",
       "      <td>-0.0</td>\n",
       "      <td>-0.0000</td>\n",
       "      <td>-0.0</td>\n",
       "      <td>-0.027205</td>\n",
       "      <td>0.100702</td>\n",
       "    </tr>\n",
       "    <tr>\n",
       "      <th>18656</th>\n",
       "      <td>0.0050</td>\n",
       "      <td>0.003925</td>\n",
       "      <td>-16.112</td>\n",
       "      <td>-0.008361</td>\n",
       "      <td>-0.0054</td>\n",
       "      <td>-0.0180</td>\n",
       "      <td>-0.0000</td>\n",
       "      <td>-0.0</td>\n",
       "      <td>-0.0194</td>\n",
       "      <td>-0.0</td>\n",
       "      <td>-0.049468</td>\n",
       "      <td>0.091164</td>\n",
       "    </tr>\n",
       "  </tbody>\n",
       "</table>\n",
       "</div>"
      ],
      "text/plain": [
       "       emp_length  annual_inc  issue_year       dti  open_acc  term_num  \\\n",
       "17360      0.0045    0.003053     -16.120 -0.001815   -0.0015   -0.0108   \n",
       "10661      0.0035    0.000872     -16.136 -0.006645   -0.0021   -0.0108   \n",
       "9317       0.0010    0.003271     -16.120 -0.003738   -0.0057   -0.0108   \n",
       "22469      0.0050    0.003140     -16.120 -0.008238   -0.0063   -0.0108   \n",
       "18656      0.0050    0.003925     -16.112 -0.008361   -0.0054   -0.0180   \n",
       "\n",
       "            D    E       F    G  return_num         0  \n",
       "17360 -0.0000 -0.0 -0.0000 -0.0    0.066295  0.118838  \n",
       "10661 -0.0000 -0.0 -0.0000 -0.0    0.034340  0.094227  \n",
       "9317  -0.0000 -0.0 -0.0000 -0.0    0.044112  0.109433  \n",
       "22469 -0.0075 -0.0 -0.0000 -0.0   -0.027205  0.100702  \n",
       "18656 -0.0000 -0.0 -0.0194 -0.0   -0.049468  0.091164  "
      ]
     },
     "execution_count": 23,
     "metadata": {},
     "output_type": "execute_result"
    }
   ],
   "source": [
    "emp_length2=X1_test[\"emp_length\"]*0.0005\n",
    "annual_inc2=X1_test[\"annual_inc\"]*(4.361e-08)\n",
    "issue_year2=X1_test[\"issue_year\"]*(-0.0080)\n",
    "dti2=X1_test[\"dti\"]*(-0.0003)\n",
    "open_acc2=X1_test[\"open_acc\"]*(-0.0003)\n",
    "term_num2=X1_test[\"term_num\"]*(-0.0003)\n",
    "D1=X1_test[\"D\"]*(-0.0075)\n",
    "E1=X1_test[\"E\"]*(-0.0114)\n",
    "F1=X1_test[\"F\"]*(-0.0194)\n",
    "G1=X1_test[\"G\"]*(-0.0220)\n",
    "return_num2=X1_test[\"return_num\"]\n",
    "\n",
    "return_num_predict=emp_length2+annual_inc2+issue_year2+dti2+open_acc2+term_num2+D1+E1+F1+G1+16.2454\n",
    "llc_linear_regression=pd.concat([emp_length2,annual_inc2,issue_year2,dti2,open_acc2,term_num2,D1,E1,F1,G1,return_num2,return_num_predict],axis=1)\n",
    "llc_linear_regression.head()"
   ]
  },
  {
   "cell_type": "code",
   "execution_count": 24,
   "metadata": {},
   "outputs": [
    {
     "data": {
      "text/plain": [
       "0.08067150139239442"
      ]
     },
     "execution_count": 24,
     "metadata": {},
     "output_type": "execute_result"
    }
   ],
   "source": [
    "MAE_linear_regression = mean_absolute_error(y1_test,return_num_predict)\n",
    "MAE_linear_regression"
   ]
  },
  {
   "cell_type": "code",
   "execution_count": 26,
   "metadata": {},
   "outputs": [],
   "source": [
    "############################ KNN"
   ]
  },
  {
   "cell_type": "code",
   "execution_count": 7,
   "metadata": {
    "collapsed": true
   },
   "outputs": [
    {
     "data": {
      "image/png": "[encoded data removed]",
      "text/plain": [
       "<Figure size 432x288 with 1 Axes>"
      ]
     },
     "metadata": {
      "needs_background": "light"
     },
     "output_type": "display_data"
    }
   ],
   "source": [
    "#KNN MAE\n",
    "X1 = lc[['emp_length','annual_inc','issue_year', 'dti','open_acc','term_num', 'D', 'E','F', 'G']]\n",
    "y1 = lc['return_num']\n",
    "X1_train,X1_test,y1_train,y1_test = train_test_split(X1,y1,test_size=0.3,random_state=3)\n",
    "\n",
    "k_range = range(2,60)\n",
    "for k in k_range:\n",
    "    knn = KNeighborsClassifier(n_neighbors = k)\n",
    "    knn.fit(X1_train,y1_train.astype('int'))\n",
    "    y_knn_scores = knn.predict(X1_test)\n",
    "    MAE_knn = mean_absolute_error(y1_test,y_knn_scores)\n",
    "    plt.scatter(k,MAE_knn)\n",
    "plt.title('MAE for KNN')\n",
    "plt.xlabel('n_neighbors=k')\n",
    "plt.ylabel('MAE')\n",
    "plt.show()"
   ]
  },
  {
   "cell_type": "markdown",
   "metadata": {},
   "source": [
    "# Decision Tree######"
   ]
  },
  {
   "cell_type": "code",
   "execution_count": 9,
   "metadata": {},
   "outputs": [
    {
     "data": {
      "image/png": "[encoded data removed]",
      "text/plain": [
       "<Figure size 432x288 with 1 Axes>"
      ]
     },
     "metadata": {
      "needs_background": "light"
     },
     "output_type": "display_data"
    }
   ],
   "source": [
    "#decision tree MAE training set\n",
    "X1 = lc[['emp_length','annual_inc','issue_year', 'dti','open_acc','term_num', 'D', 'E','F', 'G']]\n",
    "y1 = lc['return_num']\n",
    "X1_train,X1_test,y1_train,y1_test = train_test_split(X1,y1,test_size=0.3,random_state=3)\n",
    "\n",
    "k_range = range(2,60)\n",
    "for k in k_range:\n",
    "    lc3_model = DecisionTreeRegressor(max_depth=k,random_state=3)\n",
    "    lc3_model.fit(X1_train,y1_train)\n",
    "    y1_scores = lc3_model.predict(X1_train)\n",
    "    MAE1 = mean_absolute_error(y1_train,y1_scores)\n",
    "    plt.scatter(k,MAE1)\n",
    "plt.title('MAE--DecisionTree--training')\n",
    "plt.xlabel('max_depth=k')\n",
    "plt.ylabel('MAE')\n",
    "plt.show()"
   ]
  },
  {
   "cell_type": "code",
   "execution_count": 10,
   "metadata": {
    "scrolled": true
   },
   "outputs": [
    {
     "data": {
      "image/png": "[encoded data removed]",
      "text/plain": [
       "<Figure size 432x288 with 1 Axes>"
      ]
     },
     "metadata": {
      "needs_background": "light"
     },
     "output_type": "display_data"
    }
   ],
   "source": [
    "#decision tree MAE validation\n",
    "X1 = lc[['emp_length','annual_inc','issue_year', 'dti','open_acc','term_num', 'D', 'E','F', 'G']]\n",
    "y1 = lc['return_num']\n",
    "X1_train,X1_test,y1_train,y1_test = train_test_split(X1,y1,test_size=0.3,random_state=3)\n",
    "\n",
    "k_range = range(2,60)\n",
    "for k in k_range:\n",
    "    lc3_model = DecisionTreeRegressor(max_depth=k,random_state=3)\n",
    "    lc3_model.fit(X1_train,y1_train)\n",
    "    y3_scores2 = lc3_model.predict(X1_test)\n",
    "    MAE2 = mean_absolute_error(y1_test,y3_scores2)\n",
    "    plt.scatter(k,MAE2)\n",
    "plt.title('MAE--DecisionTree--validation')\n",
    "plt.xlabel('max_depth=k')\n",
    "plt.ylabel('MAE')\n",
    "plt.show()"
   ]
  },
  {
   "cell_type": "code",
   "execution_count": 11,
   "metadata": {
    "scrolled": false
   },
   "outputs": [
    {
     "data": {
      "image/png": "[encoded data removed]",
      "text/plain": [
       "<Figure size 432x288 with 1 Axes>"
      ]
     },
     "metadata": {
      "needs_background": "light"
     },
     "output_type": "display_data"
    }
   ],
   "source": [
    "#decision tree MAE\n",
    "X1 = lc[['emp_length','annual_inc','issue_year', 'dti','open_acc','term_num', 'D', 'E','F', 'G']]\n",
    "y1 = lc['return_num']\n",
    "X1_train,X1_test,y1_train,y1_test = train_test_split(X1,y1,test_size=0.3,random_state=3)\n",
    "\n",
    "k_range = range(2,40)\n",
    "for k in k_range:\n",
    "    lc3_model = DecisionTreeRegressor(max_depth=k,random_state=3)\n",
    "    lc3_model.fit(X1_train,y1_train)\n",
    "    y3_scores = lc3_model.predict(X1_train)\n",
    "    MAE1 = mean_absolute_error(y1_train,y3_scores)\n",
    "    y3_scores2 = lc3_model.predict(X1_test)\n",
    "    MAE2 = mean_absolute_error(y1_test,y3_scores2)\n",
    "    plt.scatter(k,MAE1)\n",
    "    plt.scatter(k,MAE2)\n",
    "plt.title('MAE for DecisionTree')\n",
    "plt.xlabel('max_depth=k')\n",
    "plt.ylabel('MAE')\n",
    "plt.show()"
   ]
  },
  {
   "cell_type": "code",
   "execution_count": 22,
   "metadata": {},
   "outputs": [
    {
     "data": {
      "text/plain": [
       "0.04484909333381416"
      ]
     },
     "execution_count": 22,
     "metadata": {},
     "output_type": "execute_result"
    }
   ],
   "source": [
    "#decision tree MAE\n",
    "X1 = lc[['emp_length','annual_inc','issue_year', 'dti','open_acc','term_num', 'D', 'E','F', 'G']]\n",
    "y1 = lc['return_num']\n",
    "X1_train,X1_test,y1_train,y1_test = train_test_split(X1,y1,test_size=0.3,random_state=3)\n",
    "\n",
    "lc3_model = DecisionTreeRegressor(max_depth=8,random_state=3)\n",
    "lc3_model.fit(X1_train,y1_train)\n",
    "y3_scores2 = lc3_model.predict(X1_test)\n",
    "MAE2 = mean_absolute_error(y1_test,y3_scores2)\n",
    "MAE2"
   ]
  },
  {
   "cell_type": "markdown",
   "metadata": {},
   "source": [
    "# Decision Tree max_depth=8, MAE=0.04484909333381416"
   ]
  },
  {
   "cell_type": "markdown",
   "metadata": {},
   "source": [
    "# RANDOM FOREST# "
   ]
  },
  {
   "cell_type": "code",
   "execution_count": 13,
   "metadata": {},
   "outputs": [
    {
     "data": {
      "image/png": "[encoded data removed]",
      "text/plain": [
       "<Figure size 432x288 with 1 Axes>"
      ]
     },
     "metadata": {
      "needs_background": "light"
     },
     "output_type": "display_data"
    }
   ],
   "source": [
    "#random forest MAE\n",
    "X1 = lc[['emp_length','annual_inc','issue_year', 'dti','open_acc','term_num', 'D', 'E','F', 'G']]\n",
    "y1 = lc['return_num']\n",
    "X1_train,X1_test,y1_train,y1_test = train_test_split(X1,y1,test_size=0.3,random_state=3)\n",
    "\n",
    "k_range = range(2,60)\n",
    "for k in k_range:\n",
    "    lc4_model = RandomForestRegressor(n_estimators=k,random_state=3)\n",
    "    lc4_model.fit(X1_train,y1_train)\n",
    "    y4_scores = lc4_model.predict(X1_test)\n",
    "    MAE4 = mean_absolute_error(y1_test,y4_scores)\n",
    "    plt.scatter(k,MAE4)\n",
    "plt.title('MAE--RandomForest--validation')\n",
    "plt.xlabel('n_estimators=k')\n",
    "plt.ylabel('MAE')\n",
    "plt.show()"
   ]
  },
  {
   "cell_type": "code",
   "execution_count": 21,
   "metadata": {
    "scrolled": true
   },
   "outputs": [
    {
     "name": "stdout",
     "output_type": "stream",
     "text": [
      "0.046282648495848795\n",
      "0.0466654694910626\n",
      "0.046830414054398084\n",
      "0.046803269079347024\n",
      "0.04722119469563514\n",
      "0.04723351530442648\n",
      "0.04755225393222292\n",
      "0.04738960947380735\n",
      "0.04756931102377397\n"
     ]
    },
    {
     "data": {
      "image/png": "[encoded data removed]",
      "text/plain": [
       "<Figure size 432x288 with 1 Axes>"
      ]
     },
     "metadata": {
      "needs_background": "light"
     },
     "output_type": "display_data"
    }
   ],
   "source": [
    "#random forest MAE\n",
    "k_range = range(1,10)\n",
    "for k in k_range:\n",
    "    lc4_model = RandomForestRegressor(n_estimators=20,max_features=k,random_state=3)\n",
    "    lc4_model.fit(X1_train,y1_train)\n",
    "    y4_scores = lc4_model.predict(X1_test)\n",
    "    MAE5 = mean_absolute_error(y1_test,y4_scores)\n",
    "    print(MAE5)\n",
    "    plt.scatter(k,MAE5)\n",
    "plt.title('MAE--RandomForest--validation')\n",
    "plt.xlabel('max_features=k')\n",
    "plt.ylabel('MAE')\n",
    "plt.show()"
   ]
  },
  {
   "cell_type": "markdown",
   "metadata": {},
   "source": [
    "# RANDOM FOREST, n_estimators=20, max_features=1,  \n",
    "\n",
    "MAE=0.046282648495848795"
   ]
  },
  {
   "cell_type": "code",
   "execution_count": null,
   "metadata": {},
   "outputs": [],
   "source": []
  },
  {
   "cell_type": "code",
   "execution_count": null,
   "metadata": {},
   "outputs": [],
   "source": []
  }
 ],
 "metadata": {
  "kernelspec": {
   "display_name": "Python 3",
   "language": "python",
   "name": "python3"
  },
  "language_info": {
   "codemirror_mode": {
    "name": "ipython",
    "version": 3
   },
   "file_extension": ".py",
   "mimetype": "text/x-python",
   "name": "python",
   "nbconvert_exporter": "python",
   "pygments_lexer": "ipython3",
   "version": "3.7.3"
  }
 },
 "nbformat": 4,
 "nbformat_minor": 2
}
