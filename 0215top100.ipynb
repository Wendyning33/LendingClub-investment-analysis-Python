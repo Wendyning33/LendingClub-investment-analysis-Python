{
 "cells": [
  {
   "cell_type": "code",
   "execution_count": 1,
   "metadata": {},
   "outputs": [],
   "source": [
    "import pandas as pd\n",
    "import numpy as np\n",
    "import seaborn as sns\n",
    "import matplotlib.pyplot as plt\n",
    "import statsmodels.api as sm\n",
    "import sklearn as sk\n",
    "from sklearn.model_selection import train_test_split\n",
    "from sklearn.model_selection import cross_val_score\n",
    "from sklearn.linear_model import LogisticRegression, LinearRegression\n",
    "from sklearn.neighbors import KNeighborsClassifier\n",
    "from sklearn.tree import DecisionTreeRegressor\n",
    "from sklearn.ensemble import RandomForestRegressor\n",
    "from sklearn.metrics import roc_curve, auc, mean_absolute_error"
   ]
  },
  {
   "cell_type": "code",
   "execution_count": 2,
   "metadata": {},
   "outputs": [
    {
     "data": {
      "text/html": [
       "<div>\n",
       "<style scoped>\n",
       "    .dataframe tbody tr th:only-of-type {\n",
       "        vertical-align: middle;\n",
       "    }\n",
       "\n",
       "    .dataframe tbody tr th {\n",
       "        vertical-align: top;\n",
       "    }\n",
       "\n",
       "    .dataframe thead th {\n",
       "        text-align: right;\n",
       "    }\n",
       "</style>\n",
       "<table border=\"1\" class=\"dataframe\">\n",
       "  <thead>\n",
       "    <tr style=\"text-align: right;\">\n",
       "      <th></th>\n",
       "      <th>Unnamed: 0</th>\n",
       "      <th>loan_amnt</th>\n",
       "      <th>grade</th>\n",
       "      <th>loan_length</th>\n",
       "      <th>total_pymnt</th>\n",
       "      <th>last_pymnt_d</th>\n",
       "      <th>recoveries</th>\n",
       "      <th>return_num</th>\n",
       "      <th>B</th>\n",
       "      <th>C</th>\n",
       "      <th>...</th>\n",
       "      <th>std</th>\n",
       "      <th>return_num2</th>\n",
       "      <th>Ai*ri</th>\n",
       "      <th>Ai*ri-β*σ*Ai</th>\n",
       "      <th>Def_rank</th>\n",
       "      <th>ri_rank</th>\n",
       "      <th>Ai*ri_rank</th>\n",
       "      <th>β=</th>\n",
       "      <th>0.5</th>\n",
       "      <th>beta_rank</th>\n",
       "    </tr>\n",
       "  </thead>\n",
       "  <tbody>\n",
       "    <tr>\n",
       "      <th>0</th>\n",
       "      <td>16218</td>\n",
       "      <td>27000</td>\n",
       "      <td>C</td>\n",
       "      <td>10.053595</td>\n",
       "      <td>30119.38000</td>\n",
       "      <td>2015-01-01</td>\n",
       "      <td>23746.98</td>\n",
       "      <td>0.053349</td>\n",
       "      <td>0.0000</td>\n",
       "      <td>0.9332</td>\n",
       "      <td>...</td>\n",
       "      <td>0.068374</td>\n",
       "      <td>1.187695</td>\n",
       "      <td>32067.766314</td>\n",
       "      <td>31144.717314</td>\n",
       "      <td>3685</td>\n",
       "      <td>2</td>\n",
       "      <td>1</td>\n",
       "      <td>NaN</td>\n",
       "      <td>NaN</td>\n",
       "      <td>1</td>\n",
       "    </tr>\n",
       "    <tr>\n",
       "      <th>1</th>\n",
       "      <td>7575</td>\n",
       "      <td>19475</td>\n",
       "      <td>B</td>\n",
       "      <td>13.010534</td>\n",
       "      <td>22167.14000</td>\n",
       "      <td>2015-11-01</td>\n",
       "      <td>14983.06</td>\n",
       "      <td>0.057243</td>\n",
       "      <td>0.5327</td>\n",
       "      <td>0.0000</td>\n",
       "      <td>...</td>\n",
       "      <td>0.052777</td>\n",
       "      <td>0.837092</td>\n",
       "      <td>16302.359178</td>\n",
       "      <td>15788.443141</td>\n",
       "      <td>3261</td>\n",
       "      <td>3</td>\n",
       "      <td>2</td>\n",
       "      <td>NaN</td>\n",
       "      <td>NaN</td>\n",
       "      <td>2</td>\n",
       "    </tr>\n",
       "    <tr>\n",
       "      <th>2</th>\n",
       "      <td>7520</td>\n",
       "      <td>35000</td>\n",
       "      <td>F</td>\n",
       "      <td>27.959506</td>\n",
       "      <td>49070.03000</td>\n",
       "      <td>2014-06-01</td>\n",
       "      <td>23562.86</td>\n",
       "      <td>0.109192</td>\n",
       "      <td>0.0000</td>\n",
       "      <td>0.0000</td>\n",
       "      <td>...</td>\n",
       "      <td>0.099833</td>\n",
       "      <td>0.461478</td>\n",
       "      <td>16151.740098</td>\n",
       "      <td>14404.662598</td>\n",
       "      <td>6849</td>\n",
       "      <td>9</td>\n",
       "      <td>3</td>\n",
       "      <td>NaN</td>\n",
       "      <td>NaN</td>\n",
       "      <td>3</td>\n",
       "    </tr>\n",
       "    <tr>\n",
       "      <th>3</th>\n",
       "      <td>11200</td>\n",
       "      <td>35000</td>\n",
       "      <td>D</td>\n",
       "      <td>1.018501</td>\n",
       "      <td>36078.92272</td>\n",
       "      <td>2017-11-01</td>\n",
       "      <td>0.00</td>\n",
       "      <td>0.038882</td>\n",
       "      <td>0.0000</td>\n",
       "      <td>0.0000</td>\n",
       "      <td>...</td>\n",
       "      <td>0.078910</td>\n",
       "      <td>0.363197</td>\n",
       "      <td>12711.884884</td>\n",
       "      <td>11330.959884</td>\n",
       "      <td>6535</td>\n",
       "      <td>14</td>\n",
       "      <td>4</td>\n",
       "      <td>NaN</td>\n",
       "      <td>NaN</td>\n",
       "      <td>5</td>\n",
       "    </tr>\n",
       "    <tr>\n",
       "      <th>4</th>\n",
       "      <td>9528</td>\n",
       "      <td>3600</td>\n",
       "      <td>C</td>\n",
       "      <td>3.022649</td>\n",
       "      <td>3400.06000</td>\n",
       "      <td>2012-06-01</td>\n",
       "      <td>3149.50</td>\n",
       "      <td>0.017811</td>\n",
       "      <td>0.0000</td>\n",
       "      <td>0.9332</td>\n",
       "      <td>...</td>\n",
       "      <td>0.068374</td>\n",
       "      <td>3.252731</td>\n",
       "      <td>11709.833350</td>\n",
       "      <td>11586.760150</td>\n",
       "      <td>3461</td>\n",
       "      <td>1</td>\n",
       "      <td>5</td>\n",
       "      <td>NaN</td>\n",
       "      <td>NaN</td>\n",
       "      <td>4</td>\n",
       "    </tr>\n",
       "  </tbody>\n",
       "</table>\n",
       "<p>5 rows × 36 columns</p>\n",
       "</div>"
      ],
      "text/plain": [
       "   Unnamed: 0  loan_amnt grade  loan_length  total_pymnt last_pymnt_d  \\\n",
       "0       16218      27000     C    10.053595  30119.38000   2015-01-01   \n",
       "1        7575      19475     B    13.010534  22167.14000   2015-11-01   \n",
       "2        7520      35000     F    27.959506  49070.03000   2014-06-01   \n",
       "3       11200      35000     D     1.018501  36078.92272   2017-11-01   \n",
       "4        9528       3600     C     3.022649   3400.06000   2012-06-01   \n",
       "\n",
       "   recoveries  return_num       B       C  ...       std  return_num2  \\\n",
       "0    23746.98    0.053349  0.0000  0.9332  ...  0.068374     1.187695   \n",
       "1    14983.06    0.057243  0.5327  0.0000  ...  0.052777     0.837092   \n",
       "2    23562.86    0.109192  0.0000  0.0000  ...  0.099833     0.461478   \n",
       "3        0.00    0.038882  0.0000  0.0000  ...  0.078910     0.363197   \n",
       "4     3149.50    0.017811  0.0000  0.9332  ...  0.068374     3.252731   \n",
       "\n",
       "          Ai*ri  Ai*ri-β*σ*Ai  Def_rank  ri_rank  Ai*ri_rank  β=  0.5  \\\n",
       "0  32067.766314  31144.717314      3685        2           1 NaN  NaN   \n",
       "1  16302.359178  15788.443141      3261        3           2 NaN  NaN   \n",
       "2  16151.740098  14404.662598      6849        9           3 NaN  NaN   \n",
       "3  12711.884884  11330.959884      6535       14           4 NaN  NaN   \n",
       "4  11709.833350  11586.760150      3461        1           5 NaN  NaN   \n",
       "\n",
       "   beta_rank  \n",
       "0          1  \n",
       "1          2  \n",
       "2          3  \n",
       "3          5  \n",
       "4          4  \n",
       "\n",
       "[5 rows x 36 columns]"
      ]
     },
     "execution_count": 2,
     "metadata": {},
     "output_type": "execute_result"
    }
   ],
   "source": [
    "lc = pd.read_excel(\"0213final_results.xlsx\")\n",
    "lc.head()"
   ]
  },
  {
   "cell_type": "code",
   "execution_count": 3,
   "metadata": {},
   "outputs": [
    {
     "name": "stdout",
     "output_type": "stream",
     "text": [
      "<class 'pandas.core.frame.DataFrame'>\n",
      "RangeIndex: 7494 entries, 0 to 7493\n",
      "Data columns (total 36 columns):\n",
      "Unnamed: 0         7494 non-null int64\n",
      "loan_amnt          7494 non-null int64\n",
      "grade              7494 non-null object\n",
      "loan_length        7494 non-null float64\n",
      "total_pymnt        7494 non-null float64\n",
      "last_pymnt_d       7494 non-null datetime64[ns]\n",
      "recoveries         7494 non-null float64\n",
      "return_num         7494 non-null float64\n",
      "B                  7494 non-null float64\n",
      "C                  7494 non-null float64\n",
      "D                  7494 non-null float64\n",
      "E                  7494 non-null float64\n",
      "F                  7494 non-null float64\n",
      "G                  7494 non-null float64\n",
      "dti                7494 non-null float64\n",
      "fico_avg           7494 non-null float64\n",
      "emp_length         7494 non-null float64\n",
      "revol_bal          7494 non-null float64\n",
      "term_num           7494 non-null float64\n",
      "funded_amnt_ori    7494 non-null int64\n",
      "funded_amnt        7494 non-null float64\n",
      "annual_inc         7494 non-null float64\n",
      "issue_year         7494 non-null float64\n",
      "int_rate           7494 non-null float64\n",
      "default            7494 non-null int64\n",
      "def_proba          7494 non-null float64\n",
      "std                7494 non-null float64\n",
      "return_num2        7494 non-null float64\n",
      "Ai*ri              7494 non-null float64\n",
      "Ai*ri-β*σ*Ai       7494 non-null float64\n",
      "Def_rank           7494 non-null int64\n",
      "ri_rank            7494 non-null int64\n",
      "Ai*ri_rank         7494 non-null int64\n",
      "β=                 0 non-null float64\n",
      "0.5                0 non-null float64\n",
      "beta_rank          7494 non-null int64\n",
      "dtypes: datetime64[ns](1), float64(26), int64(8), object(1)\n",
      "memory usage: 2.1+ MB\n"
     ]
    }
   ],
   "source": [
    "lc.info()"
   ]
  },
  {
   "cell_type": "code",
   "execution_count": 3,
   "metadata": {},
   "outputs": [
    {
     "data": {
      "text/plain": [
       "Index([     'Unnamed: 0',       'loan_amnt',           'grade',\n",
       "           'loan_length',     'total_pymnt',    'last_pymnt_d',\n",
       "            'recoveries',      'return_num',               'B',\n",
       "                     'C',               'D',               'E',\n",
       "                     'F',               'G',             'dti',\n",
       "              'fico_avg',      'emp_length',       'revol_bal',\n",
       "              'term_num', 'funded_amnt_ori',     'funded_amnt',\n",
       "            'annual_inc',      'issue_year',        'int_rate',\n",
       "               'default',       'def_proba',             'std',\n",
       "           'return_num2',           'Ai*ri',    'Ai*ri-β*σ*Ai',\n",
       "              'Def_rank',         'ri_rank',      'Ai*ri_rank',\n",
       "                    'β=',               0.5,       'beta_rank'],\n",
       "      dtype='object')"
      ]
     },
     "execution_count": 3,
     "metadata": {},
     "output_type": "execute_result"
    }
   ],
   "source": [
    "lc.columns"
   ]
  },
  {
   "cell_type": "code",
   "execution_count": 4,
   "metadata": {},
   "outputs": [
    {
     "name": "stdout",
     "output_type": "stream",
     "text": [
      "Def_Average return(top100):  0.039931390760000005\n",
      "Airi_Average return:  0.11649520974000005\n",
      "Beta_Average return:  0.12412830627000002\n",
      "the best Beta=0.725\n"
     ]
    },
    {
     "data": {
      "image/png": "[encoded data removed]",
      "text/plain": [
       "<Figure size 432x288 with 1 Axes>"
      ]
     },
     "metadata": {
      "needs_background": "light"
     },
     "output_type": "display_data"
    }
   ],
   "source": [
    "Def_loans_id = lc[\"def_proba\"].argsort()[::1][:100] #逆序，从大到小排列，取前100个\n",
    "Def_true_return = lc['return_num'][Def_loans_id]\n",
    "print(\"Def_Average return(top100): \", np.mean(Def_true_return))\n",
    "\n",
    "Airi_loans_id = (lc[\"funded_amnt_ori\"]*lc[\"return_num\"]).argsort()[::-1][:100] #逆序，从大到小排列，取前100个\n",
    "Airi_true_return = lc['return_num'][Airi_loans_id]\n",
    "print(\"Airi_Average return: \", np.mean(Airi_true_return))\n",
    "\n",
    "Beta_loans_id = (lc[\"funded_amnt_ori\"]*lc[\"return_num\"]-0.725*lc[\"std\"]*lc[\"funded_amnt_ori\"]).argsort()[::-1][:100]\n",
    "Beta_true_return = lc['return_num'][Beta_loans_id]\n",
    "print(\"Beta_Average return: \", np.mean(Beta_true_return))\n",
    "print(\"the best Beta=0.725\")\n",
    "def beta_method(beta):\n",
    "    beta_orientation = lc[\"funded_amnt_ori\"]*lc[\"return_num\"]-beta*lc[\"std\"]*lc[\"funded_amnt_ori\"]\n",
    "    beta_loans_id = beta_orientation.argsort()[::-1][:100]\n",
    "    beta_true_return = lc[\"return_num\"][beta_loans_id]\n",
    "    return np.mean(beta_true_return)\n",
    "\n",
    "beta_range = range(0,60)\n",
    "for k in beta_range:\n",
    "    beta = k/20\n",
    "    result = beta_method(beta)\n",
    "    #print(beta)\n",
    "    #print(\"Beta_Average return: \", result)\n",
    "    plt.scatter(beta,result)\n",
    "plt.title('beta_top100_avg_return_num')\n",
    "plt.xlabel('beta')\n",
    "plt.ylabel('top100_avg_return_num')\n",
    "plt.show()"
   ]
  },
  {
   "cell_type": "code",
   "execution_count": 5,
   "metadata": {},
   "outputs": [
    {
     "name": "stdout",
     "output_type": "stream",
     "text": [
      "Def_Average return2(top100):  0.04192669873934752\n",
      "Airi_Average return2:  0.2777216070607596\n",
      "Beta_Average return2:  0.31683468860479524\n",
      "the best Beta=2.220\n"
     ]
    },
    {
     "data": {
      "image/png": "[encoded data removed]",
      "text/plain": [
       "<Figure size 432x288 with 1 Axes>"
      ]
     },
     "metadata": {
      "needs_background": "light"
     },
     "output_type": "display_data"
    }
   ],
   "source": [
    "Def_loans_id = lc[\"def_proba\"].argsort()[::1][:100] #逆序，从大到小排列，取前100个\n",
    "Def_true_return = lc['return_num2'][Def_loans_id]\n",
    "print(\"Def_Average return2(top100): \", np.mean(Def_true_return))\n",
    "\n",
    "Airi_loans_id = (lc[\"funded_amnt_ori\"]*lc[\"return_num2\"]).argsort()[::-1][:100] #逆序，从大到小排列，取前100个\n",
    "Airi_true_return = lc['return_num2'][Airi_loans_id]\n",
    "print(\"Airi_Average return2: \", np.mean(Airi_true_return))\n",
    "\n",
    "Beta_loans_id = (lc[\"funded_amnt_ori\"]*lc[\"return_num2\"]-2.220*lc[\"std\"]*lc[\"funded_amnt_ori\"]).argsort()[::-1][:100]\n",
    "Beta_true_return = lc['return_num2'][Beta_loans_id]\n",
    "print(\"Beta_Average return2: \", np.mean(Beta_true_return))\n",
    "print(\"the best Beta=2.220\")\n",
    "\n",
    "def beta_method2(beta):\n",
    "    beta_orientation = lc[\"funded_amnt_ori\"]*lc[\"return_num2\"]-beta*lc[\"std\"]*lc[\"funded_amnt_ori\"]\n",
    "    beta_loans_id = beta_orientation.argsort()[::-1][:100]\n",
    "    beta_true_return = lc[\"return_num2\"][beta_loans_id]\n",
    "    return np.mean(beta_true_return)\n",
    "\n",
    "beta_range = range(0,80)\n",
    "for k in beta_range:\n",
    "    beta = k/20\n",
    "    result = beta_method2(beta)\n",
    "    #print(beta)\n",
    "    #print(\"Beta_Average return: \", result)\n",
    "    plt.scatter(beta,result)\n",
    "plt.title('beta_top100_avg_return_num2')\n",
    "plt.xlabel('beta')\n",
    "plt.ylabel('top100_avg_return_num2')\n",
    "plt.show()"
   ]
  },
  {
   "cell_type": "code",
   "execution_count": 101,
   "metadata": {},
   "outputs": [],
   "source": [
    "def beta_method2(beta):\n",
    "    beta_orientation = lc[\"funded_amnt_ori\"]*lc[\"return_num2\"]-beta*lc[\"std\"]*lc[\"funded_amnt_ori\"]\n",
    "    beta_loans_id = beta_orientation.argsort()[::-1][:100]\n",
    "    beta_true_return = lc[\"return_num2\"][beta_loans_id]\n",
    "    return np.mean(beta_true_return)"
   ]
  },
  {
   "cell_type": "code",
   "execution_count": 108,
   "metadata": {
    "collapsed": true
   },
   "outputs": [
    {
     "name": "stdout",
     "output_type": "stream",
     "text": [
      "2.204\n",
      "Beta_Average return:  0.3156819851435333\n",
      "2.205\n",
      "Beta_Average return:  0.3160025794384418\n",
      "2.206\n",
      "Beta_Average return:  0.31683468860479524\n",
      "2.207\n",
      "Beta_Average return:  0.31683468860479524\n",
      "2.208\n",
      "Beta_Average return:  0.31683468860479524\n",
      "2.209\n",
      "Beta_Average return:  0.31683468860479524\n",
      "2.21\n",
      "Beta_Average return:  0.31683468860479524\n",
      "2.211\n",
      "Beta_Average return:  0.31683468860479524\n",
      "2.212\n",
      "Beta_Average return:  0.31683468860479524\n",
      "2.213\n",
      "Beta_Average return:  0.31683468860479524\n",
      "2.214\n",
      "Beta_Average return:  0.31683468860479524\n",
      "2.215\n",
      "Beta_Average return:  0.31683468860479524\n",
      "2.216\n",
      "Beta_Average return:  0.31683468860479524\n",
      "2.217\n",
      "Beta_Average return:  0.31683468860479524\n",
      "2.218\n",
      "Beta_Average return:  0.31683468860479524\n",
      "2.219\n",
      "Beta_Average return:  0.31683468860479524\n",
      "2.22\n",
      "Beta_Average return:  0.31683468860479524\n",
      "2.221\n",
      "Beta_Average return:  0.31683468860479524\n",
      "2.222\n",
      "Beta_Average return:  0.31683468860479524\n",
      "2.223\n",
      "Beta_Average return:  0.31683468860479524\n"
     ]
    },
    {
     "data": {
      "image/png": "[encoded data removed]",
      "text/plain": [
       "<Figure size 432x288 with 1 Axes>"
      ]
     },
     "metadata": {
      "needs_background": "light"
     },
     "output_type": "display_data"
    }
   ],
   "source": [
    "beta_range = range(2204,2224)\n",
    "for k in beta_range:\n",
    "    beta = k/1000\n",
    "    result = beta_method2(beta)\n",
    "    print(beta)\n",
    "    print(\"Beta_Average return: \", result)\n",
    "    plt.scatter(beta,result)\n",
    "plt.title('beta_top100_avg_return_num2')\n",
    "plt.xlabel('beta')\n",
    "plt.ylabel('top100_avg_return_num2')\n",
    "plt.show()"
   ]
  },
  {
   "cell_type": "code",
   "execution_count": null,
   "metadata": {},
   "outputs": [],
   "source": []
  }
 ],
 "metadata": {
  "kernelspec": {
   "display_name": "Python 3",
   "language": "python",
   "name": "python3"
  },
  "language_info": {
   "codemirror_mode": {
    "name": "ipython",
    "version": 3
   },
   "file_extension": ".py",
   "mimetype": "text/x-python",
   "name": "python",
   "nbconvert_exporter": "python",
   "pygments_lexer": "ipython3",
   "version": "3.7.3"
  }
 },
 "nbformat": 4,
 "nbformat_minor": 2
}
