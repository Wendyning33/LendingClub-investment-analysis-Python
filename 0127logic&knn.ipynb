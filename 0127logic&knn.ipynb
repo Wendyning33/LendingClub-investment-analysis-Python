{
 "cells": [
  {
   "cell_type": "code",
   "execution_count": 1,
   "metadata": {},
   "outputs": [],
   "source": [
    "# Data processing\n",
    "import pandas as pd\n",
    "\n",
    "# Math\n",
    "import numpy as np\n",
    "\n",
    "# Machine learning\n",
    "import sklearn as sk\n",
    "from sklearn import linear_model as sk_lm\n",
    "from sklearn import model_selection as sk_ms\n",
    "from sklearn.linear_model import LogisticRegression, LinearRegression\n",
    "from sklearn.tree import DecisionTreeRegressor, DecisionTreeClassifier\n",
    "from sklearn.ensemble import GradientBoostingRegressor, GradientBoostingClassifier, RandomForestRegressor\n",
    "\n",
    "from sklearn.metrics import roc_auc_score, roc_curve, r2_score\n",
    "from sklearn import preprocessing \n",
    "\n",
    "import statsmodels.api as sm\n",
    "\n",
    "# Plotting functions\n",
    "import matplotlib.pyplot as plt\n",
    "import seaborn as sns"
   ]
  },
  {
   "cell_type": "code",
   "execution_count": 13,
   "metadata": {
    "collapsed": true
   },
   "outputs": [
    {
     "ename": "SyntaxError",
     "evalue": "invalid syntax (<ipython-input-13-bce138e032c2>, line 1)",
     "output_type": "error",
     "traceback": [
      "\u001b[1;36m  File \u001b[1;32m\"<ipython-input-13-bce138e032c2>\"\u001b[1;36m, line \u001b[1;32m1\u001b[0m\n\u001b[1;33m    https://www.quora.com/How-can-I-choose-the-best-K-in-KNN-K-nearest-neighbour-classification  选择最好的k\u001b[0m\n\u001b[1;37m           ^\u001b[0m\n\u001b[1;31mSyntaxError\u001b[0m\u001b[1;31m:\u001b[0m invalid syntax\n"
     ]
    }
   ],
   "source": [
    "https://www.quora.com/How-can-I-choose-the-best-K-in-KNN-K-nearest-neighbour-classification  选择最好的k\n",
    "\n",
    "https://scikit-learn.org/stable/modules/generated/sklearn.linear_model.LogisticRegression.html#sklearn.linear_model.LogisticRegression  sklearn预测 knn！\n",
    "\n",
    "https://towardsdatascience.com/building-a-logistic-regression-in-python-step-by-step-becd4d56c9c8   ROCcurve-和case很像\n",
    "\n",
    "https://www.statsmodels.org/dev/generated/statsmodels.discrete.discrete_model.Logit.html statesmodel的用法\n",
    "\n",
    "https://stackoverflow.com/questions/52910061/implementing-roc-curves-for-k-nn-machine-learning-algorithm-using-python-and-sci/52910821 后面画ROC curve"
   ]
  },
  {
   "cell_type": "code",
   "execution_count": 2,
   "metadata": {
    "collapsed": true
   },
   "outputs": [
    {
     "ename": "NameError",
     "evalue": "name 'lc' is not defined",
     "output_type": "error",
     "traceback": [
      "\u001b[1;31m---------------------------------------------------------------------------\u001b[0m",
      "\u001b[1;31mNameError\u001b[0m                                 Traceback (most recent call last)",
      "\u001b[1;32m<ipython-input-2-2ea93bc80018>\u001b[0m in \u001b[0;36m<module>\u001b[1;34m\u001b[0m\n\u001b[0;32m      1\u001b[0m \u001b[1;31m#logistic regression\u001b[0m\u001b[1;33m\u001b[0m\u001b[1;33m\u001b[0m\u001b[1;33m\u001b[0m\u001b[0m\n\u001b[1;32m----> 2\u001b[1;33m \u001b[0mx\u001b[0m\u001b[1;33m=\u001b[0m\u001b[0mlc\u001b[0m\u001b[1;33m[\u001b[0m\u001b[1;33m[\u001b[0m\u001b[1;34m'B'\u001b[0m\u001b[1;33m,\u001b[0m \u001b[1;34m'C'\u001b[0m\u001b[1;33m,\u001b[0m \u001b[1;34m'D'\u001b[0m\u001b[1;33m,\u001b[0m \u001b[1;34m'E'\u001b[0m\u001b[1;33m,\u001b[0m \u001b[1;34m'F'\u001b[0m\u001b[1;33m,\u001b[0m \u001b[1;34m'G'\u001b[0m\u001b[1;33m,\u001b[0m \u001b[1;34m'dti'\u001b[0m\u001b[1;33m,\u001b[0m \u001b[1;34m'fico_avg'\u001b[0m\u001b[1;33m,\u001b[0m \u001b[1;34m'emp_length'\u001b[0m\u001b[1;33m,\u001b[0m \u001b[1;34m'revol_bal'\u001b[0m\u001b[1;33m,\u001b[0m \u001b[1;34m'term_num'\u001b[0m\u001b[1;33m]\u001b[0m\u001b[1;33m]\u001b[0m\u001b[1;33m\u001b[0m\u001b[1;33m\u001b[0m\u001b[0m\n\u001b[0m\u001b[0;32m      3\u001b[0m \u001b[0my\u001b[0m\u001b[1;33m=\u001b[0m\u001b[0mlc\u001b[0m\u001b[1;33m[\u001b[0m\u001b[1;34m'default'\u001b[0m\u001b[1;33m]\u001b[0m\u001b[1;33m\u001b[0m\u001b[1;33m\u001b[0m\u001b[0m\n\u001b[0;32m      4\u001b[0m \u001b[0mx\u001b[0m\u001b[1;33m=\u001b[0m\u001b[0msm\u001b[0m\u001b[1;33m.\u001b[0m\u001b[0mtools\u001b[0m\u001b[1;33m.\u001b[0m\u001b[0mtools\u001b[0m\u001b[1;33m.\u001b[0m\u001b[0madd_constant\u001b[0m\u001b[1;33m(\u001b[0m\u001b[0mx\u001b[0m\u001b[1;33m)\u001b[0m\u001b[1;33m\u001b[0m\u001b[1;33m\u001b[0m\u001b[0m\n\u001b[0;32m      5\u001b[0m \u001b[0mlogit\u001b[0m\u001b[1;33m=\u001b[0m\u001b[0msm\u001b[0m\u001b[1;33m.\u001b[0m\u001b[0mLogit\u001b[0m\u001b[1;33m(\u001b[0m\u001b[0my\u001b[0m\u001b[1;33m,\u001b[0m\u001b[0mx\u001b[0m\u001b[1;33m)\u001b[0m\u001b[1;33m\u001b[0m\u001b[1;33m\u001b[0m\u001b[0m\n",
      "\u001b[1;31mNameError\u001b[0m: name 'lc' is not defined"
     ]
    }
   ],
   "source": [
    "#logistic regression\n",
    "x=lc[['B', 'C', 'D', 'E', 'F', 'G', 'dti', 'fico_avg', 'emp_length', 'revol_bal', 'term_num']]\n",
    "y=lc['default']\n",
    "x=sm.tools.tools.add_constant(x)\n",
    "logit=sm.Logit(y,x)\n",
    "\n",
    "result=logit.fit()\n",
    "result.summary()"
   ]
  },
  {
   "cell_type": "code",
   "execution_count": null,
   "metadata": {},
   "outputs": [],
   "source": [
    "#linear regression\n",
    "x=lc[['funded_amnt', 'int_rate','annual_inc',\n",
    "      'dti', 'fico_range_high', 'fico_range_low', 'revol_bal','loan_length', 'term_num']]\n",
    "y=[\"int_rate\"]\n",
    "x2=sm.add_constant(x)\n",
    "est=sm.OLS(y,x2)  #OLS最小二乘法\n",
    "est2=est.fit()\n",
    "print(est2.summary())#线性回归"
   ]
  },
  {
   "cell_type": "code",
   "execution_count": null,
   "metadata": {},
   "outputs": [],
   "source": [
    "#k=？时得到neigh.predict()的模型，用来预测\n",
    "from sklearn.neighbors import KNeighborsClassifier\n",
    "x=lc[['B', 'C', 'D', 'E', 'F', 'G', 'dti', 'fico_avg', 'emp_length', 'revol_bal', 'term_num']]\n",
    "y=lc['default']\n",
    "neigh = KNeighborsClassifier(n_neighbors=5)\n",
    "neigh.fit(x, y)\n",
    "neigh.predict(x.loc[0:100]) #预测结果，取最高可能性的\n",
    "neigh.predict_proba(x.loc[0:10]) #预测probability，得到1-0的概率分别是多少"
   ]
  },
  {
   "cell_type": "code",
   "execution_count": 2,
   "metadata": {},
   "outputs": [
    {
     "data": {
      "text/html": [
       "<div>\n",
       "<style scoped>\n",
       "    .dataframe tbody tr th:only-of-type {\n",
       "        vertical-align: middle;\n",
       "    }\n",
       "\n",
       "    .dataframe tbody tr th {\n",
       "        vertical-align: top;\n",
       "    }\n",
       "\n",
       "    .dataframe thead th {\n",
       "        text-align: right;\n",
       "    }\n",
       "</style>\n",
       "<table border=\"1\" class=\"dataframe\">\n",
       "  <thead>\n",
       "    <tr style=\"text-align: right;\">\n",
       "      <th></th>\n",
       "      <th>B</th>\n",
       "      <th>C</th>\n",
       "      <th>D</th>\n",
       "      <th>E</th>\n",
       "      <th>F</th>\n",
       "      <th>G</th>\n",
       "      <th>funded_amnt</th>\n",
       "      <th>annual_inc</th>\n",
       "      <th>issue_year</th>\n",
       "      <th>dti</th>\n",
       "      <th>fico_avg</th>\n",
       "      <th>emp_length</th>\n",
       "      <th>revol_bal</th>\n",
       "      <th>term_num</th>\n",
       "      <th>default</th>\n",
       "      <th>int_rate</th>\n",
       "    </tr>\n",
       "  </thead>\n",
       "  <tbody>\n",
       "    <tr>\n",
       "      <th>0</th>\n",
       "      <td>0</td>\n",
       "      <td>0</td>\n",
       "      <td>0</td>\n",
       "      <td>0</td>\n",
       "      <td>0</td>\n",
       "      <td>0</td>\n",
       "      <td>14500</td>\n",
       "      <td>58761.0</td>\n",
       "      <td>2015</td>\n",
       "      <td>21.94</td>\n",
       "      <td>697.0</td>\n",
       "      <td>0</td>\n",
       "      <td>15449</td>\n",
       "      <td>36</td>\n",
       "      <td>0</td>\n",
       "      <td>7.89</td>\n",
       "    </tr>\n",
       "    <tr>\n",
       "      <th>1</th>\n",
       "      <td>1</td>\n",
       "      <td>0</td>\n",
       "      <td>0</td>\n",
       "      <td>0</td>\n",
       "      <td>0</td>\n",
       "      <td>0</td>\n",
       "      <td>1000</td>\n",
       "      <td>65000.0</td>\n",
       "      <td>2017</td>\n",
       "      <td>25.68</td>\n",
       "      <td>727.0</td>\n",
       "      <td>1</td>\n",
       "      <td>5154</td>\n",
       "      <td>36</td>\n",
       "      <td>0</td>\n",
       "      <td>11.99</td>\n",
       "    </tr>\n",
       "    <tr>\n",
       "      <th>2</th>\n",
       "      <td>0</td>\n",
       "      <td>0</td>\n",
       "      <td>0</td>\n",
       "      <td>1</td>\n",
       "      <td>0</td>\n",
       "      <td>0</td>\n",
       "      <td>16800</td>\n",
       "      <td>65000.0</td>\n",
       "      <td>2013</td>\n",
       "      <td>5.93</td>\n",
       "      <td>672.0</td>\n",
       "      <td>10</td>\n",
       "      <td>17843</td>\n",
       "      <td>60</td>\n",
       "      <td>0</td>\n",
       "      <td>21.70</td>\n",
       "    </tr>\n",
       "    <tr>\n",
       "      <th>3</th>\n",
       "      <td>0</td>\n",
       "      <td>0</td>\n",
       "      <td>0</td>\n",
       "      <td>1</td>\n",
       "      <td>0</td>\n",
       "      <td>0</td>\n",
       "      <td>18000</td>\n",
       "      <td>101000.0</td>\n",
       "      <td>2016</td>\n",
       "      <td>28.91</td>\n",
       "      <td>692.0</td>\n",
       "      <td>2</td>\n",
       "      <td>24126</td>\n",
       "      <td>60</td>\n",
       "      <td>1</td>\n",
       "      <td>23.99</td>\n",
       "    </tr>\n",
       "    <tr>\n",
       "      <th>4</th>\n",
       "      <td>0</td>\n",
       "      <td>1</td>\n",
       "      <td>0</td>\n",
       "      <td>0</td>\n",
       "      <td>0</td>\n",
       "      <td>0</td>\n",
       "      <td>26000</td>\n",
       "      <td>65000.0</td>\n",
       "      <td>2015</td>\n",
       "      <td>24.92</td>\n",
       "      <td>662.0</td>\n",
       "      <td>8</td>\n",
       "      <td>40580</td>\n",
       "      <td>36</td>\n",
       "      <td>0</td>\n",
       "      <td>12.29</td>\n",
       "    </tr>\n",
       "  </tbody>\n",
       "</table>\n",
       "</div>"
      ],
      "text/plain": [
       "   B  C  D  E  F  G  funded_amnt  annual_inc  issue_year    dti  fico_avg  \\\n",
       "0  0  0  0  0  0  0        14500     58761.0        2015  21.94     697.0   \n",
       "1  1  0  0  0  0  0         1000     65000.0        2017  25.68     727.0   \n",
       "2  0  0  0  1  0  0        16800     65000.0        2013   5.93     672.0   \n",
       "3  0  0  0  1  0  0        18000    101000.0        2016  28.91     692.0   \n",
       "4  0  1  0  0  0  0        26000     65000.0        2015  24.92     662.0   \n",
       "\n",
       "   emp_length  revol_bal  term_num  default  int_rate  \n",
       "0           0      15449        36        0      7.89  \n",
       "1           1       5154        36        0     11.99  \n",
       "2          10      17843        60        0     21.70  \n",
       "3           2      24126        60        1     23.99  \n",
       "4           8      40580        36        0     12.29  "
      ]
     },
     "execution_count": 2,
     "metadata": {},
     "output_type": "execute_result"
    }
   ],
   "source": [
    "lc = pd.read_csv(\"lc2final仅default.csv\")\n",
    "lc.head()"
   ]
  },
  {
   "cell_type": "code",
   "execution_count": 3,
   "metadata": {},
   "outputs": [
    {
     "data": {
      "text/plain": [
       "Index(['B', 'C', 'D', 'E', 'F', 'G', 'funded_amnt', 'annual_inc', 'issue_year',\n",
       "       'dti', 'fico_avg', 'emp_length', 'revol_bal', 'term_num', 'default',\n",
       "       'int_rate'],\n",
       "      dtype='object')"
      ]
     },
     "execution_count": 3,
     "metadata": {},
     "output_type": "execute_result"
    }
   ],
   "source": [
    "lc.columns"
   ]
  },
  {
   "cell_type": "code",
   "execution_count": 3,
   "metadata": {},
   "outputs": [
    {
     "data": {
      "text/plain": [
       "Index(['Unnamed: 0', 'id', 'loan_amnt', 'funded_amnt', 'term', 'int_rate',\n",
       "       'installment', 'emp_length', 'annual return', 'annual_return_real',\n",
       "       'annual_return_rate', 'annual_inc', 'verification_status', 'issue_d',\n",
       "       'issue_year', 'loan_status', 'dti', 'delinq_2yrs', 'earliest_cr_line',\n",
       "       'open_acc', 'pub_rec', 'fico_range_high', 'fico_range_low', 'revol_bal',\n",
       "       'revol_util', 'total_pymnt', 'last_pymnt_d', 'recoveries',\n",
       "       'loan_length', 'term_num', 'return_num', 'default', 'B', 'C', 'D', 'E',\n",
       "       'F', 'G', 'MORTGAGE', 'NONE', 'OTHER', 'OWN', 'RENT', 'credit_card',\n",
       "       'debt_consolidation', 'educational', 'home_improvement', 'house',\n",
       "       'major_purchase', 'medical', 'moving', 'other', 'renewable_energy',\n",
       "       'small_business', 'vacation', 'wedding'],\n",
       "      dtype='object')"
      ]
     },
     "execution_count": 3,
     "metadata": {},
     "output_type": "execute_result"
    }
   ],
   "source": [
    "lc=pd.read_csv(\"lc_dummy原始数据dummy后.csv\")\n",
    "lc.columns"
   ]
  },
  {
   "cell_type": "code",
   "execution_count": 4,
   "metadata": {},
   "outputs": [
    {
     "name": "stderr",
     "output_type": "stream",
     "text": [
      "C:\\ProgramData\\Anaconda3\\lib\\site-packages\\numpy\\core\\fromnumeric.py:2389: FutureWarning: Method .ptp is deprecated and will be removed in a future version. Use numpy.ptp instead.\n",
      "  return ptp(axis=axis, out=out, **kwargs)\n"
     ]
    },
    {
     "name": "stdout",
     "output_type": "stream",
     "text": [
      "Optimization terminated successfully.\n",
      "         Current function value: 0.457995\n",
      "         Iterations 7\n"
     ]
    },
    {
     "data": {
      "text/html": [
       "<table class=\"simpletable\">\n",
       "<caption>Logit Regression Results</caption>\n",
       "<tr>\n",
       "  <th>Dep. Variable:</th>      <td>default</td>     <th>  No. Observations:  </th>  <td> 24977</td> \n",
       "</tr>\n",
       "<tr>\n",
       "  <th>Model:</th>               <td>Logit</td>      <th>  Df Residuals:      </th>  <td> 24962</td> \n",
       "</tr>\n",
       "<tr>\n",
       "  <th>Method:</th>               <td>MLE</td>       <th>  Df Model:          </th>  <td>    14</td> \n",
       "</tr>\n",
       "<tr>\n",
       "  <th>Date:</th>          <td>Wed, 12 Feb 2020</td> <th>  Pseudo R-squ.:     </th>  <td>0.08041</td>\n",
       "</tr>\n",
       "<tr>\n",
       "  <th>Time:</th>              <td>13:43:45</td>     <th>  Log-Likelihood:    </th> <td> -11439.</td>\n",
       "</tr>\n",
       "<tr>\n",
       "  <th>converged:</th>           <td>True</td>       <th>  LL-Null:           </th> <td> -12440.</td>\n",
       "</tr>\n",
       "<tr>\n",
       "  <th> </th>                      <td> </td>        <th>  LLR p-value:       </th>  <td> 0.000</td> \n",
       "</tr>\n",
       "</table>\n",
       "<table class=\"simpletable\">\n",
       "<tr>\n",
       "       <td></td>          <th>coef</th>     <th>std err</th>      <th>z</th>      <th>P>|z|</th>  <th>[0.025</th>    <th>0.975]</th>  \n",
       "</tr>\n",
       "<tr>\n",
       "  <th>const</th>       <td> -132.9668</td> <td>   23.344</td> <td>   -5.696</td> <td> 0.000</td> <td> -178.720</td> <td>  -87.213</td>\n",
       "</tr>\n",
       "<tr>\n",
       "  <th>B</th>           <td>    0.5350</td> <td>    0.076</td> <td>    7.083</td> <td> 0.000</td> <td>    0.387</td> <td>    0.683</td>\n",
       "</tr>\n",
       "<tr>\n",
       "  <th>C</th>           <td>    0.9349</td> <td>    0.076</td> <td>   12.258</td> <td> 0.000</td> <td>    0.785</td> <td>    1.084</td>\n",
       "</tr>\n",
       "<tr>\n",
       "  <th>D</th>           <td>    1.2666</td> <td>    0.081</td> <td>   15.575</td> <td> 0.000</td> <td>    1.107</td> <td>    1.426</td>\n",
       "</tr>\n",
       "<tr>\n",
       "  <th>E</th>           <td>    1.4759</td> <td>    0.090</td> <td>   16.309</td> <td> 0.000</td> <td>    1.299</td> <td>    1.653</td>\n",
       "</tr>\n",
       "<tr>\n",
       "  <th>F</th>           <td>    1.5918</td> <td>    0.113</td> <td>   14.106</td> <td> 0.000</td> <td>    1.371</td> <td>    1.813</td>\n",
       "</tr>\n",
       "<tr>\n",
       "  <th>G</th>           <td>    1.8049</td> <td>    0.173</td> <td>   10.422</td> <td> 0.000</td> <td>    1.465</td> <td>    2.144</td>\n",
       "</tr>\n",
       "<tr>\n",
       "  <th>funded_amnt</th> <td> 7.015e-06</td> <td> 2.45e-06</td> <td>    2.863</td> <td> 0.004</td> <td> 2.21e-06</td> <td> 1.18e-05</td>\n",
       "</tr>\n",
       "<tr>\n",
       "  <th>annual_inc</th>  <td>-1.344e-06</td> <td> 4.66e-07</td> <td>   -2.881</td> <td> 0.004</td> <td>-2.26e-06</td> <td> -4.3e-07</td>\n",
       "</tr>\n",
       "<tr>\n",
       "  <th>issue_year</th>  <td>    0.0665</td> <td>    0.012</td> <td>    5.747</td> <td> 0.000</td> <td>    0.044</td> <td>    0.089</td>\n",
       "</tr>\n",
       "<tr>\n",
       "  <th>dti</th>         <td>    0.0223</td> <td>    0.002</td> <td>   10.566</td> <td> 0.000</td> <td>    0.018</td> <td>    0.026</td>\n",
       "</tr>\n",
       "<tr>\n",
       "  <th>fico_avg</th>    <td>   -0.0064</td> <td>    0.001</td> <td>   -8.912</td> <td> 0.000</td> <td>   -0.008</td> <td>   -0.005</td>\n",
       "</tr>\n",
       "<tr>\n",
       "  <th>emp_length</th>  <td>   -0.0221</td> <td>    0.004</td> <td>   -5.035</td> <td> 0.000</td> <td>   -0.031</td> <td>   -0.014</td>\n",
       "</tr>\n",
       "<tr>\n",
       "  <th>revol_bal</th>   <td>-3.438e-06</td> <td>  1.1e-06</td> <td>   -3.139</td> <td> 0.002</td> <td>-5.58e-06</td> <td>-1.29e-06</td>\n",
       "</tr>\n",
       "<tr>\n",
       "  <th>term_num</th>    <td>    0.0186</td> <td>    0.002</td> <td>   10.436</td> <td> 0.000</td> <td>    0.015</td> <td>    0.022</td>\n",
       "</tr>\n",
       "</table>"
      ],
      "text/plain": [
       "<class 'statsmodels.iolib.summary.Summary'>\n",
       "\"\"\"\n",
       "                           Logit Regression Results                           \n",
       "==============================================================================\n",
       "Dep. Variable:                default   No. Observations:                24977\n",
       "Model:                          Logit   Df Residuals:                    24962\n",
       "Method:                           MLE   Df Model:                           14\n",
       "Date:                Wed, 12 Feb 2020   Pseudo R-squ.:                 0.08041\n",
       "Time:                        13:43:45   Log-Likelihood:                -11439.\n",
       "converged:                       True   LL-Null:                       -12440.\n",
       "                                        LLR p-value:                     0.000\n",
       "===============================================================================\n",
       "                  coef    std err          z      P>|z|      [0.025      0.975]\n",
       "-------------------------------------------------------------------------------\n",
       "const        -132.9668     23.344     -5.696      0.000    -178.720     -87.213\n",
       "B               0.5350      0.076      7.083      0.000       0.387       0.683\n",
       "C               0.9349      0.076     12.258      0.000       0.785       1.084\n",
       "D               1.2666      0.081     15.575      0.000       1.107       1.426\n",
       "E               1.4759      0.090     16.309      0.000       1.299       1.653\n",
       "F               1.5918      0.113     14.106      0.000       1.371       1.813\n",
       "G               1.8049      0.173     10.422      0.000       1.465       2.144\n",
       "funded_amnt  7.015e-06   2.45e-06      2.863      0.004    2.21e-06    1.18e-05\n",
       "annual_inc  -1.344e-06   4.66e-07     -2.881      0.004   -2.26e-06    -4.3e-07\n",
       "issue_year      0.0665      0.012      5.747      0.000       0.044       0.089\n",
       "dti             0.0223      0.002     10.566      0.000       0.018       0.026\n",
       "fico_avg       -0.0064      0.001     -8.912      0.000      -0.008      -0.005\n",
       "emp_length     -0.0221      0.004     -5.035      0.000      -0.031      -0.014\n",
       "revol_bal   -3.438e-06    1.1e-06     -3.139      0.002   -5.58e-06   -1.29e-06\n",
       "term_num        0.0186      0.002     10.436      0.000       0.015       0.022\n",
       "===============================================================================\n",
       "\"\"\""
      ]
     },
     "execution_count": 4,
     "metadata": {},
     "output_type": "execute_result"
    }
   ],
   "source": [
    "#logistic regression\n",
    "x=lc[['B', 'C', 'D', 'E', 'F', 'G', 'funded_amnt', 'annual_inc', 'issue_year',\n",
    "       'dti', 'fico_avg', 'emp_length', 'revol_bal', 'term_num']]\n",
    "y=lc['default']\n",
    "x=sm.tools.tools.add_constant(x)\n",
    "logit=sm.Logit(y,x)\n",
    "\n",
    "result=logit.fit()\n",
    "result.summary()"
   ]
  },
  {
   "cell_type": "markdown",
   "metadata": {},
   "source": [
    "thus, all the considered factors are significant."
   ]
  },
  {
   "cell_type": "code",
   "execution_count": 5,
   "metadata": {},
   "outputs": [
    {
     "data": {
      "text/html": [
       "<div>\n",
       "<style scoped>\n",
       "    .dataframe tbody tr th:only-of-type {\n",
       "        vertical-align: middle;\n",
       "    }\n",
       "\n",
       "    .dataframe tbody tr th {\n",
       "        vertical-align: top;\n",
       "    }\n",
       "\n",
       "    .dataframe thead th {\n",
       "        text-align: right;\n",
       "    }\n",
       "</style>\n",
       "<table border=\"1\" class=\"dataframe\">\n",
       "  <thead>\n",
       "    <tr style=\"text-align: right;\">\n",
       "      <th></th>\n",
       "      <th>B</th>\n",
       "      <th>C</th>\n",
       "      <th>D</th>\n",
       "      <th>E</th>\n",
       "      <th>F</th>\n",
       "      <th>G</th>\n",
       "      <th>dti</th>\n",
       "      <th>fico_avg</th>\n",
       "      <th>emp_length</th>\n",
       "      <th>revol_bal</th>\n",
       "      <th>term_num</th>\n",
       "      <th>funded_amnt</th>\n",
       "      <th>annual_inc</th>\n",
       "      <th>issue_year</th>\n",
       "      <th>int_rate</th>\n",
       "      <th>default</th>\n",
       "    </tr>\n",
       "  </thead>\n",
       "  <tbody>\n",
       "    <tr>\n",
       "      <th>0</th>\n",
       "      <td>0.000</td>\n",
       "      <td>0.0000</td>\n",
       "      <td>0.0</td>\n",
       "      <td>0.0000</td>\n",
       "      <td>0.0</td>\n",
       "      <td>0.0</td>\n",
       "      <td>0.489262</td>\n",
       "      <td>-4.4608</td>\n",
       "      <td>-0.0000</td>\n",
       "      <td>-0.053114</td>\n",
       "      <td>0.6696</td>\n",
       "      <td>0.101718</td>\n",
       "      <td>-0.078975</td>\n",
       "      <td>133.9975</td>\n",
       "      <td>7.89</td>\n",
       "      <td>0</td>\n",
       "    </tr>\n",
       "    <tr>\n",
       "      <th>1</th>\n",
       "      <td>0.535</td>\n",
       "      <td>0.0000</td>\n",
       "      <td>0.0</td>\n",
       "      <td>0.0000</td>\n",
       "      <td>0.0</td>\n",
       "      <td>0.0</td>\n",
       "      <td>0.572664</td>\n",
       "      <td>-4.6528</td>\n",
       "      <td>-0.0221</td>\n",
       "      <td>-0.017719</td>\n",
       "      <td>0.6696</td>\n",
       "      <td>0.007015</td>\n",
       "      <td>-0.087360</td>\n",
       "      <td>134.1305</td>\n",
       "      <td>11.99</td>\n",
       "      <td>0</td>\n",
       "    </tr>\n",
       "    <tr>\n",
       "      <th>2</th>\n",
       "      <td>0.000</td>\n",
       "      <td>0.0000</td>\n",
       "      <td>0.0</td>\n",
       "      <td>1.4759</td>\n",
       "      <td>0.0</td>\n",
       "      <td>0.0</td>\n",
       "      <td>0.132239</td>\n",
       "      <td>-4.3008</td>\n",
       "      <td>-0.2210</td>\n",
       "      <td>-0.061344</td>\n",
       "      <td>1.1160</td>\n",
       "      <td>0.117852</td>\n",
       "      <td>-0.087360</td>\n",
       "      <td>133.8645</td>\n",
       "      <td>21.70</td>\n",
       "      <td>0</td>\n",
       "    </tr>\n",
       "    <tr>\n",
       "      <th>3</th>\n",
       "      <td>0.000</td>\n",
       "      <td>0.0000</td>\n",
       "      <td>0.0</td>\n",
       "      <td>1.4759</td>\n",
       "      <td>0.0</td>\n",
       "      <td>0.0</td>\n",
       "      <td>0.644693</td>\n",
       "      <td>-4.4288</td>\n",
       "      <td>-0.0442</td>\n",
       "      <td>-0.082945</td>\n",
       "      <td>1.1160</td>\n",
       "      <td>0.126270</td>\n",
       "      <td>-0.135744</td>\n",
       "      <td>134.0640</td>\n",
       "      <td>23.99</td>\n",
       "      <td>1</td>\n",
       "    </tr>\n",
       "    <tr>\n",
       "      <th>4</th>\n",
       "      <td>0.000</td>\n",
       "      <td>0.9349</td>\n",
       "      <td>0.0</td>\n",
       "      <td>0.0000</td>\n",
       "      <td>0.0</td>\n",
       "      <td>0.0</td>\n",
       "      <td>0.555716</td>\n",
       "      <td>-4.2368</td>\n",
       "      <td>-0.1768</td>\n",
       "      <td>-0.139514</td>\n",
       "      <td>0.6696</td>\n",
       "      <td>0.182390</td>\n",
       "      <td>-0.087360</td>\n",
       "      <td>133.9975</td>\n",
       "      <td>12.29</td>\n",
       "      <td>0</td>\n",
       "    </tr>\n",
       "  </tbody>\n",
       "</table>\n",
       "</div>"
      ],
      "text/plain": [
       "       B       C    D       E    F    G       dti  fico_avg  emp_length  \\\n",
       "0  0.000  0.0000  0.0  0.0000  0.0  0.0  0.489262   -4.4608     -0.0000   \n",
       "1  0.535  0.0000  0.0  0.0000  0.0  0.0  0.572664   -4.6528     -0.0221   \n",
       "2  0.000  0.0000  0.0  1.4759  0.0  0.0  0.132239   -4.3008     -0.2210   \n",
       "3  0.000  0.0000  0.0  1.4759  0.0  0.0  0.644693   -4.4288     -0.0442   \n",
       "4  0.000  0.9349  0.0  0.0000  0.0  0.0  0.555716   -4.2368     -0.1768   \n",
       "\n",
       "   revol_bal  term_num  funded_amnt  annual_inc  issue_year  int_rate  default  \n",
       "0  -0.053114    0.6696     0.101718   -0.078975    133.9975      7.89        0  \n",
       "1  -0.017719    0.6696     0.007015   -0.087360    134.1305     11.99        0  \n",
       "2  -0.061344    1.1160     0.117852   -0.087360    133.8645     21.70        0  \n",
       "3  -0.082945    1.1160     0.126270   -0.135744    134.0640     23.99        1  \n",
       "4  -0.139514    0.6696     0.182390   -0.087360    133.9975     12.29        0  "
      ]
     },
     "execution_count": 5,
     "metadata": {},
     "output_type": "execute_result"
    }
   ],
   "source": [
    "B1=lc[\"B\"]*0.5350\n",
    "C1=lc[\"C\"]*0.9349\n",
    "D1=lc[\"D\"]*1.2666\n",
    "E1=lc[\"E\"]*1.4759\n",
    "F1=lc[\"F\"]*1.5918\n",
    "G1=lc[\"G\"]*1.8049\n",
    "dti2=lc[\"dti\"]*0.0223\n",
    "fico_avg2=lc[\"fico_avg\"]*(-0.0064)\n",
    "emp_length2=lc[\"emp_length\"]*(-0.0221)\n",
    "revol_bal2=lc[\"revol_bal\"]*(-3.438e-06)\n",
    "term_num2=lc[\"term_num\"]*0.0186\n",
    "funded_amnt2=lc[\"funded_amnt\"]*(7.015e-06)\n",
    "annual_inc2=lc[\"annual_inc\"]*(-1.344e-06)\n",
    "issue_year2=lc[\"issue_year\"]*0.0665\n",
    "int_rate2=lc[\"int_rate\"]\n",
    "default2=lc[\"default\"]\n",
    "llc=pd.concat([B1,C1,D1,E1,F1,G1,dti2,fico_avg2,emp_length2,revol_bal2,term_num2,funded_amnt2,annual_inc2,issue_year2,int_rate2,default2],axis=1)\n",
    "llc.head()"
   ]
  },
  {
   "cell_type": "code",
   "execution_count": 6,
   "metadata": {},
   "outputs": [],
   "source": [
    "llc.to_csv(\"0127logic&knn.csv\")"
   ]
  },
  {
   "cell_type": "code",
   "execution_count": 10,
   "metadata": {},
   "outputs": [
    {
     "name": "stdout",
     "output_type": "stream",
     "text": [
      "<class 'pandas.core.frame.DataFrame'>\n",
      "RangeIndex: 24976 entries, 0 to 24975\n",
      "Data columns (total 2 columns):\n",
      "0      24976 non-null int64\n",
      "0.5    24976 non-null float64\n",
      "dtypes: float64(1), int64(1)\n",
      "memory usage: 390.3 KB\n"
     ]
    }
   ],
   "source": [
    "akk = pd.read_csv(\"proba.csv\")\n",
    "akk.info()"
   ]
  },
  {
   "cell_type": "code",
   "execution_count": 12,
   "metadata": {
    "collapsed": true
   },
   "outputs": [
    {
     "ename": "FileNotFoundError",
     "evalue": "[Errno 2] File b'probability.csv' does not exist: b'probability.csv'",
     "output_type": "error",
     "traceback": [
      "\u001b[1;31m---------------------------------------------------------------------------\u001b[0m",
      "\u001b[1;31mFileNotFoundError\u001b[0m                         Traceback (most recent call last)",
      "\u001b[1;32m<ipython-input-12-779dd2d14ecc>\u001b[0m in \u001b[0;36m<module>\u001b[1;34m\u001b[0m\n\u001b[0;32m      4\u001b[0m       'dti', 'fico_avg', 'emp_length', 'revol_bal', 'term_num']]\n\u001b[0;32m      5\u001b[0m \u001b[0my\u001b[0m\u001b[1;33m=\u001b[0m\u001b[0mlc\u001b[0m\u001b[1;33m[\u001b[0m\u001b[1;34m'default'\u001b[0m\u001b[1;33m]\u001b[0m\u001b[1;33m\u001b[0m\u001b[1;33m\u001b[0m\u001b[0m\n\u001b[1;32m----> 6\u001b[1;33m \u001b[0mdata\u001b[0m \u001b[1;33m=\u001b[0m \u001b[0mpd\u001b[0m\u001b[1;33m.\u001b[0m\u001b[0mread_csv\u001b[0m\u001b[1;33m(\u001b[0m\u001b[1;34m\"probability.csv\"\u001b[0m\u001b[1;33m)\u001b[0m \u001b[1;31m#有问题\u001b[0m\u001b[1;33m\u001b[0m\u001b[1;33m\u001b[0m\u001b[0m\n\u001b[0m\u001b[0;32m      7\u001b[0m \u001b[1;32mfor\u001b[0m \u001b[0mk\u001b[0m \u001b[1;32min\u001b[0m \u001b[0mrange\u001b[0m \u001b[1;33m(\u001b[0m\u001b[1;36m3\u001b[0m\u001b[1;33m,\u001b[0m\u001b[1;36m8\u001b[0m\u001b[1;33m)\u001b[0m\u001b[1;33m:\u001b[0m\u001b[1;33m\u001b[0m\u001b[1;33m\u001b[0m\u001b[0m\n\u001b[0;32m      8\u001b[0m         \u001b[0mneigh\u001b[0m \u001b[1;33m=\u001b[0m \u001b[0mKNeighborsClassifier\u001b[0m\u001b[1;33m(\u001b[0m\u001b[0mn_neighbors\u001b[0m \u001b[1;33m=\u001b[0m \u001b[0mk\u001b[0m\u001b[1;33m)\u001b[0m\u001b[1;33m\u001b[0m\u001b[1;33m\u001b[0m\u001b[0m\n",
      "\u001b[1;32mC:\\ProgramData\\Anaconda3\\lib\\site-packages\\pandas\\io\\parsers.py\u001b[0m in \u001b[0;36mparser_f\u001b[1;34m(filepath_or_buffer, sep, delimiter, header, names, index_col, usecols, squeeze, prefix, mangle_dupe_cols, dtype, engine, converters, true_values, false_values, skipinitialspace, skiprows, skipfooter, nrows, na_values, keep_default_na, na_filter, verbose, skip_blank_lines, parse_dates, infer_datetime_format, keep_date_col, date_parser, dayfirst, iterator, chunksize, compression, thousands, decimal, lineterminator, quotechar, quoting, doublequote, escapechar, comment, encoding, dialect, tupleize_cols, error_bad_lines, warn_bad_lines, delim_whitespace, low_memory, memory_map, float_precision)\u001b[0m\n\u001b[0;32m    700\u001b[0m                     skip_blank_lines=skip_blank_lines)\n\u001b[0;32m    701\u001b[0m \u001b[1;33m\u001b[0m\u001b[0m\n\u001b[1;32m--> 702\u001b[1;33m         \u001b[1;32mreturn\u001b[0m \u001b[0m_read\u001b[0m\u001b[1;33m(\u001b[0m\u001b[0mfilepath_or_buffer\u001b[0m\u001b[1;33m,\u001b[0m \u001b[0mkwds\u001b[0m\u001b[1;33m)\u001b[0m\u001b[1;33m\u001b[0m\u001b[1;33m\u001b[0m\u001b[0m\n\u001b[0m\u001b[0;32m    703\u001b[0m \u001b[1;33m\u001b[0m\u001b[0m\n\u001b[0;32m    704\u001b[0m     \u001b[0mparser_f\u001b[0m\u001b[1;33m.\u001b[0m\u001b[0m__name__\u001b[0m \u001b[1;33m=\u001b[0m \u001b[0mname\u001b[0m\u001b[1;33m\u001b[0m\u001b[1;33m\u001b[0m\u001b[0m\n",
      "\u001b[1;32mC:\\ProgramData\\Anaconda3\\lib\\site-packages\\pandas\\io\\parsers.py\u001b[0m in \u001b[0;36m_read\u001b[1;34m(filepath_or_buffer, kwds)\u001b[0m\n\u001b[0;32m    427\u001b[0m \u001b[1;33m\u001b[0m\u001b[0m\n\u001b[0;32m    428\u001b[0m     \u001b[1;31m# Create the parser.\u001b[0m\u001b[1;33m\u001b[0m\u001b[1;33m\u001b[0m\u001b[1;33m\u001b[0m\u001b[0m\n\u001b[1;32m--> 429\u001b[1;33m     \u001b[0mparser\u001b[0m \u001b[1;33m=\u001b[0m \u001b[0mTextFileReader\u001b[0m\u001b[1;33m(\u001b[0m\u001b[0mfilepath_or_buffer\u001b[0m\u001b[1;33m,\u001b[0m \u001b[1;33m**\u001b[0m\u001b[0mkwds\u001b[0m\u001b[1;33m)\u001b[0m\u001b[1;33m\u001b[0m\u001b[1;33m\u001b[0m\u001b[0m\n\u001b[0m\u001b[0;32m    430\u001b[0m \u001b[1;33m\u001b[0m\u001b[0m\n\u001b[0;32m    431\u001b[0m     \u001b[1;32mif\u001b[0m \u001b[0mchunksize\u001b[0m \u001b[1;32mor\u001b[0m \u001b[0miterator\u001b[0m\u001b[1;33m:\u001b[0m\u001b[1;33m\u001b[0m\u001b[1;33m\u001b[0m\u001b[0m\n",
      "\u001b[1;32mC:\\ProgramData\\Anaconda3\\lib\\site-packages\\pandas\\io\\parsers.py\u001b[0m in \u001b[0;36m__init__\u001b[1;34m(self, f, engine, **kwds)\u001b[0m\n\u001b[0;32m    893\u001b[0m             \u001b[0mself\u001b[0m\u001b[1;33m.\u001b[0m\u001b[0moptions\u001b[0m\u001b[1;33m[\u001b[0m\u001b[1;34m'has_index_names'\u001b[0m\u001b[1;33m]\u001b[0m \u001b[1;33m=\u001b[0m \u001b[0mkwds\u001b[0m\u001b[1;33m[\u001b[0m\u001b[1;34m'has_index_names'\u001b[0m\u001b[1;33m]\u001b[0m\u001b[1;33m\u001b[0m\u001b[1;33m\u001b[0m\u001b[0m\n\u001b[0;32m    894\u001b[0m \u001b[1;33m\u001b[0m\u001b[0m\n\u001b[1;32m--> 895\u001b[1;33m         \u001b[0mself\u001b[0m\u001b[1;33m.\u001b[0m\u001b[0m_make_engine\u001b[0m\u001b[1;33m(\u001b[0m\u001b[0mself\u001b[0m\u001b[1;33m.\u001b[0m\u001b[0mengine\u001b[0m\u001b[1;33m)\u001b[0m\u001b[1;33m\u001b[0m\u001b[1;33m\u001b[0m\u001b[0m\n\u001b[0m\u001b[0;32m    896\u001b[0m \u001b[1;33m\u001b[0m\u001b[0m\n\u001b[0;32m    897\u001b[0m     \u001b[1;32mdef\u001b[0m \u001b[0mclose\u001b[0m\u001b[1;33m(\u001b[0m\u001b[0mself\u001b[0m\u001b[1;33m)\u001b[0m\u001b[1;33m:\u001b[0m\u001b[1;33m\u001b[0m\u001b[1;33m\u001b[0m\u001b[0m\n",
      "\u001b[1;32mC:\\ProgramData\\Anaconda3\\lib\\site-packages\\pandas\\io\\parsers.py\u001b[0m in \u001b[0;36m_make_engine\u001b[1;34m(self, engine)\u001b[0m\n\u001b[0;32m   1120\u001b[0m     \u001b[1;32mdef\u001b[0m \u001b[0m_make_engine\u001b[0m\u001b[1;33m(\u001b[0m\u001b[0mself\u001b[0m\u001b[1;33m,\u001b[0m \u001b[0mengine\u001b[0m\u001b[1;33m=\u001b[0m\u001b[1;34m'c'\u001b[0m\u001b[1;33m)\u001b[0m\u001b[1;33m:\u001b[0m\u001b[1;33m\u001b[0m\u001b[1;33m\u001b[0m\u001b[0m\n\u001b[0;32m   1121\u001b[0m         \u001b[1;32mif\u001b[0m \u001b[0mengine\u001b[0m \u001b[1;33m==\u001b[0m \u001b[1;34m'c'\u001b[0m\u001b[1;33m:\u001b[0m\u001b[1;33m\u001b[0m\u001b[1;33m\u001b[0m\u001b[0m\n\u001b[1;32m-> 1122\u001b[1;33m             \u001b[0mself\u001b[0m\u001b[1;33m.\u001b[0m\u001b[0m_engine\u001b[0m \u001b[1;33m=\u001b[0m \u001b[0mCParserWrapper\u001b[0m\u001b[1;33m(\u001b[0m\u001b[0mself\u001b[0m\u001b[1;33m.\u001b[0m\u001b[0mf\u001b[0m\u001b[1;33m,\u001b[0m \u001b[1;33m**\u001b[0m\u001b[0mself\u001b[0m\u001b[1;33m.\u001b[0m\u001b[0moptions\u001b[0m\u001b[1;33m)\u001b[0m\u001b[1;33m\u001b[0m\u001b[1;33m\u001b[0m\u001b[0m\n\u001b[0m\u001b[0;32m   1123\u001b[0m         \u001b[1;32melse\u001b[0m\u001b[1;33m:\u001b[0m\u001b[1;33m\u001b[0m\u001b[1;33m\u001b[0m\u001b[0m\n\u001b[0;32m   1124\u001b[0m             \u001b[1;32mif\u001b[0m \u001b[0mengine\u001b[0m \u001b[1;33m==\u001b[0m \u001b[1;34m'python'\u001b[0m\u001b[1;33m:\u001b[0m\u001b[1;33m\u001b[0m\u001b[1;33m\u001b[0m\u001b[0m\n",
      "\u001b[1;32mC:\\ProgramData\\Anaconda3\\lib\\site-packages\\pandas\\io\\parsers.py\u001b[0m in \u001b[0;36m__init__\u001b[1;34m(self, src, **kwds)\u001b[0m\n\u001b[0;32m   1851\u001b[0m         \u001b[0mkwds\u001b[0m\u001b[1;33m[\u001b[0m\u001b[1;34m'usecols'\u001b[0m\u001b[1;33m]\u001b[0m \u001b[1;33m=\u001b[0m \u001b[0mself\u001b[0m\u001b[1;33m.\u001b[0m\u001b[0musecols\u001b[0m\u001b[1;33m\u001b[0m\u001b[1;33m\u001b[0m\u001b[0m\n\u001b[0;32m   1852\u001b[0m \u001b[1;33m\u001b[0m\u001b[0m\n\u001b[1;32m-> 1853\u001b[1;33m         \u001b[0mself\u001b[0m\u001b[1;33m.\u001b[0m\u001b[0m_reader\u001b[0m \u001b[1;33m=\u001b[0m \u001b[0mparsers\u001b[0m\u001b[1;33m.\u001b[0m\u001b[0mTextReader\u001b[0m\u001b[1;33m(\u001b[0m\u001b[0msrc\u001b[0m\u001b[1;33m,\u001b[0m \u001b[1;33m**\u001b[0m\u001b[0mkwds\u001b[0m\u001b[1;33m)\u001b[0m\u001b[1;33m\u001b[0m\u001b[1;33m\u001b[0m\u001b[0m\n\u001b[0m\u001b[0;32m   1854\u001b[0m         \u001b[0mself\u001b[0m\u001b[1;33m.\u001b[0m\u001b[0munnamed_cols\u001b[0m \u001b[1;33m=\u001b[0m \u001b[0mself\u001b[0m\u001b[1;33m.\u001b[0m\u001b[0m_reader\u001b[0m\u001b[1;33m.\u001b[0m\u001b[0munnamed_cols\u001b[0m\u001b[1;33m\u001b[0m\u001b[1;33m\u001b[0m\u001b[0m\n\u001b[0;32m   1855\u001b[0m \u001b[1;33m\u001b[0m\u001b[0m\n",
      "\u001b[1;32mpandas/_libs/parsers.pyx\u001b[0m in \u001b[0;36mpandas._libs.parsers.TextReader.__cinit__\u001b[1;34m()\u001b[0m\n",
      "\u001b[1;32mpandas/_libs/parsers.pyx\u001b[0m in \u001b[0;36mpandas._libs.parsers.TextReader._setup_parser_source\u001b[1;34m()\u001b[0m\n",
      "\u001b[1;31mFileNotFoundError\u001b[0m: [Errno 2] File b'probability.csv' does not exist: b'probability.csv'"
     ]
    }
   ],
   "source": [
    "#k=？时得到neigh.predict()的模型，用来预测\n",
    "from sklearn.neighbors import KNeighborsClassifier\n",
    "x=lc[['B', 'C', 'D', 'E', 'F', 'G', 'funded_amnt', 'annual_inc', 'issue_year',\n",
    "      'dti', 'fico_avg', 'emp_length', 'revol_bal', 'term_num']]\n",
    "y=lc['default']\n",
    "data = pd.read_csv(\"probability.csv\") #有问题\n",
    "for k in range (3,8):\n",
    "        neigh = KNeighborsClassifier(n_neighbors = k)\n",
    "        neigh.fit(x, y)\n",
    "        a = neigh.predict_proba(x.loc[0:249777]) #预测probability，得到1-0的概率分别是多少\n",
    "        b = a[:,1]\n",
    "        data1 = pd.Series(b)\n",
    "        dataframe = pd.DataFrame({'data1_name':data1})\n",
    "        dataframe.to_csv('proba.csv',mode = 'a',index=0,header=1)"
   ]
  },
  {
   "cell_type": "code",
   "execution_count": 18,
   "metadata": {},
   "outputs": [],
   "source": [
    "#k=？时得到neigh.predict()的模型，用来预测\n",
    "from sklearn.neighbors import KNeighborsClassifier\n",
    "x=lc[['B', 'C', 'D', 'E', 'F', 'G', 'funded_amnt', 'annual_inc', 'issue_year',\n",
    "      'dti', 'fico_avg', 'emp_length', 'revol_bal', 'term_num']]\n",
    "y=lc['default']\n",
    "data = pd.read_csv(\"probability.csv\") #有问题\n",
    "for k in range (2,8):\n",
    "        neigh = KNeighborsClassifier(n_neighbors = k)\n",
    "        neigh.fit(x, y)\n",
    "        a = neigh.predict_proba(x.loc[0:249777]) #预测probability，得到1-0的概率分别是多少\n",
    "        b = a[:,1]\n",
    "        data1 = pd.Series(b)\n",
    "        dataframe = pd.DataFrame({'data1_name':data1})\n",
    "        dataframe.to_csv(r\"probability.csv\",mode = 'a',sep=',')"
   ]
  },
  {
   "cell_type": "code",
   "execution_count": 69,
   "metadata": {},
   "outputs": [
    {
     "name": "stderr",
     "output_type": "stream",
     "text": [
      "C:\\ProgramData\\Anaconda3\\lib\\site-packages\\ipykernel_launcher.py:2: FutureWarning: The signature of `Series.to_csv` was aligned to that of `DataFrame.to_csv`, and argument 'header' will change its default value from False to True: please pass an explicit value to suppress this warning.\n",
      "  \n"
     ]
    }
   ],
   "source": [
    "c = pd.Series(b)\n",
    "c.to_csv(\"probability.csv\")"
   ]
  },
  {
   "cell_type": "code",
   "execution_count": 1,
   "metadata": {},
   "outputs": [],
   "source": [
    "###########################################2020/02/05"
   ]
  },
  {
   "cell_type": "code",
   "execution_count": 4,
   "metadata": {},
   "outputs": [],
   "source": [
    "from sklearn.neighbors import KNeighborsClassifier\n",
    "from sklearn.model_selection import train_test_split\n",
    "from sklearn.model_selection import cross_val_score\n",
    "from sklearn.metrics import roc_curve\n",
    "from sklearn.metrics import auc\n",
    "import pandas as pd\n",
    "import numpy as np\n",
    "import matplotlib.pyplot as plt\n",
    "import statsmodels.api as sm\n",
    "import seaborn as sns\n",
    "\n",
    "lc = pd.read_csv(\"lc2final仅default.csv\")"
   ]
  },
  {
   "cell_type": "code",
   "execution_count": 3,
   "metadata": {
    "scrolled": true
   },
   "outputs": [
    {
     "data": {
      "image/png": "[encoded data removed]",
      "text/plain": [
       "<Figure size 432x288 with 1 Axes>"
      ]
     },
     "metadata": {
      "needs_background": "light"
     },
     "output_type": "display_data"
    }
   ],
   "source": [
    "#KNN test_score XXXXX\n",
    "X = lc.drop(columns=['default','int_rate'])\n",
    "y = lc['default'].values\n",
    "X_train,X_test,y_train,y_test = train_test_split(X,y,test_size=0.3,random_state=3)\n",
    "k_range = range(2,60)\n",
    "for k in k_range:\n",
    "    knn = KNeighborsClassifier(n_neighbors = k)\n",
    "    knn.fit(X_train,y_train)\n",
    "    knn.predict(X_test)[0:29477]\n",
    "    knn.score(X_test,y_test)\n",
    "    test_score = knn.score(X_test, y_test)\n",
    "    plt.scatter(k,test_score)\n",
    "plt.title('test_score diagram')\n",
    "plt.xlabel('n_neighbors=k')\n",
    "plt.ylabel('test_scores')\n",
    "plt.show()"
   ]
  },
  {
   "cell_type": "code",
   "execution_count": 20,
   "metadata": {},
   "outputs": [
    {
     "data": {
      "image/png": "[encoded data removed]",
      "text/plain": [
       "<Figure size 432x288 with 1 Axes>"
      ]
     },
     "metadata": {
      "needs_background": "light"
     },
     "output_type": "display_data"
    }
   ],
   "source": [
    "#KNN AUC\n",
    "lc = pd.read_csv(\"lc2final仅default.csv\")\n",
    "X = lc.drop(columns=['default','int_rate'])\n",
    "y = lc['default'].values\n",
    "X_train,X_test,y_train,y_test = train_test_split(X,y,test_size=0.3,random_state=3)\n",
    "\n",
    "k_range = range(2,60)\n",
    "for k in k_range:\n",
    "    knn = KNeighborsClassifier(n_neighbors = k)\n",
    "    knn.fit(X_train,y_train)\n",
    "    y_scores = knn.predict_proba(X_test)\n",
    "    fpr, tpr, threshold = roc_curve(y_test, y_scores[:, 1])\n",
    "    roc_auc = auc(fpr,tpr)\n",
    "    plt.scatter(k,roc_auc)\n",
    "plt.title('AUC for KNN')\n",
    "plt.xlabel('n_neighbors=k')\n",
    "plt.ylabel('AUC')#KNN AUC\n",
    "plt.show()"
   ]
  },
  {
   "cell_type": "code",
   "execution_count": 19,
   "metadata": {},
   "outputs": [
    {
     "data": {
      "image/png": "[encoded data removed]",
      "text/plain": [
       "<Figure size 432x288 with 1 Axes>"
      ]
     },
     "metadata": {
      "needs_background": "light"
     },
     "output_type": "display_data"
    }
   ],
   "source": [
    "#KNN MAE\n",
    "from sklearn.metrics import mean_absolute_error\n",
    "lc = pd.read_csv(\"lc2final仅default.csv\")\n",
    "X = lc.drop(columns=['default','int_rate'])\n",
    "y = lc['default'].values\n",
    "X_train,X_test,y_train,y_test = train_test_split(X,y,test_size=0.3,random_state=3)\n",
    "\n",
    "k_range = range(2,60)\n",
    "for k in k_range:\n",
    "    knn = KNeighborsClassifier(n_neighbors = k)\n",
    "    knn.fit(X_train,y_train)\n",
    "    y_scores = knn.predict(X_test)\n",
    "    MAE = mean_absolute_error(y_test,y_scores)\n",
    "    plt.scatter(k,MAE)\n",
    "plt.title('MAE for KNN')\n",
    "plt.xlabel('n_neighbors=k')\n",
    "plt.ylabel('MAE')\n",
    "plt.show()"
   ]
  },
  {
   "cell_type": "code",
   "execution_count": 59,
   "metadata": {},
   "outputs": [
    {
     "name": "stdout",
     "output_type": "stream",
     "text": [
      "Test set score: 0.8009\n",
      "[0.79791917 0.79711885 0.79751901 0.79463571 0.79495394 0.79455346\n",
      " 0.80016019 0.79615539 0.79014818 0.79535443]\n",
      "cv_scores mean:0.7958518322084828\n",
      "0.5822261949830256\n"
     ]
    },
    {
     "data": {
      "image/png": "[encoded data removed]",
      "text/plain": [
       "<Figure size 432x288 with 1 Axes>"
      ]
     },
     "metadata": {
      "needs_background": "light"
     },
     "output_type": "display_data"
    }
   ],
   "source": [
    "#KNN, k=30, ROC Curve Drawing\n",
    "lc = pd.read_csv(\"lc2final仅default.csv\")\n",
    "X = lc.drop(columns=['default','int_rate'])\n",
    "y = lc['default'].values\n",
    "X_train,X_test,y_train,y_test = train_test_split(X,y,test_size=0.3,random_state=3)\n",
    "\n",
    "knn = KNeighborsClassifier(n_neighbors = 30)\n",
    "knn.fit(X_train,y_train)\n",
    "knn.predict(X_test)[0:29477]\n",
    "knn.score(X_test,y_test)\n",
    "\n",
    "print(\"Test set score: {:.4f}\".format(knn.score(X_test, y_test)))\n",
    "knn_cv = KNeighborsClassifier(n_neighbors=10)\n",
    "cv_scores = cross_val_score(knn_cv, X, y, cv=10)\n",
    "print(cv_scores)\n",
    "print('cv_scores mean:{}' .format(np.mean(cv_scores)))\n",
    "    \n",
    "y_scores = knn.predict_proba(X_test)\n",
    "fpr, tpr, threshold = roc_curve(y_test, y_scores[:, 1])\n",
    "roc_auc = auc(fpr,tpr)\n",
    "print(roc_auc)\n",
    "\n",
    "plt.title('Receiver Operating Characteristic')\n",
    "plt.plot(fpr,tpr,'b',label = 'AUC = %0.2f' % roc_auc)\n",
    "plt.legend(loc = 'lower right')\n",
    "plt.plot([0, 1], [0, 1],'r--')\n",
    "plt.xlim([0, 1])\n",
    "plt.ylim([0, 1])\n",
    "plt.ylabel('True Positive Rate')\n",
    "plt.xlabel('False Positive Rate')\n",
    "plt.title('ROC Curve of kNN')\n",
    "plt.show()"
   ]
  },
  {
   "cell_type": "code",
   "execution_count": 6,
   "metadata": {},
   "outputs": [
    {
     "name": "stdout",
     "output_type": "stream",
     "text": [
      "Optimization terminated successfully.\n",
      "         Current function value: 0.457578\n",
      "         Iterations 7\n"
     ]
    },
    {
     "data": {
      "text/html": [
       "<table class=\"simpletable\">\n",
       "<caption>Logit Regression Results</caption>\n",
       "<tr>\n",
       "  <th>Dep. Variable:</th>      <td>default</td>     <th>  No. Observations:  </th>   <td> 17483</td>  \n",
       "</tr>\n",
       "<tr>\n",
       "  <th>Model:</th>               <td>Logit</td>      <th>  Df Residuals:      </th>   <td> 17468</td>  \n",
       "</tr>\n",
       "<tr>\n",
       "  <th>Method:</th>               <td>MLE</td>       <th>  Df Model:          </th>   <td>    14</td>  \n",
       "</tr>\n",
       "<tr>\n",
       "  <th>Date:</th>          <td>Wed, 05 Feb 2020</td> <th>  Pseudo R-squ.:     </th>   <td>0.08081</td> \n",
       "</tr>\n",
       "<tr>\n",
       "  <th>Time:</th>              <td>11:49:41</td>     <th>  Log-Likelihood:    </th>  <td> -7999.8</td> \n",
       "</tr>\n",
       "<tr>\n",
       "  <th>converged:</th>           <td>True</td>       <th>  LL-Null:           </th>  <td> -8703.2</td> \n",
       "</tr>\n",
       "<tr>\n",
       "  <th> </th>                      <td> </td>        <th>  LLR p-value:       </th> <td>6.066e-292</td>\n",
       "</tr>\n",
       "</table>\n",
       "<table class=\"simpletable\">\n",
       "<tr>\n",
       "       <td></td>          <th>coef</th>     <th>std err</th>      <th>z</th>      <th>P>|z|</th>  <th>[0.025</th>    <th>0.975]</th>  \n",
       "</tr>\n",
       "<tr>\n",
       "  <th>const</th>       <td> -147.3046</td> <td>   28.146</td> <td>   -5.234</td> <td> 0.000</td> <td> -202.470</td> <td>  -92.139</td>\n",
       "</tr>\n",
       "<tr>\n",
       "  <th>B</th>           <td>    0.5327</td> <td>    0.090</td> <td>    5.931</td> <td> 0.000</td> <td>    0.357</td> <td>    0.709</td>\n",
       "</tr>\n",
       "<tr>\n",
       "  <th>C</th>           <td>    0.9332</td> <td>    0.091</td> <td>   10.306</td> <td> 0.000</td> <td>    0.756</td> <td>    1.111</td>\n",
       "</tr>\n",
       "<tr>\n",
       "  <th>D</th>           <td>    1.2677</td> <td>    0.097</td> <td>   13.118</td> <td> 0.000</td> <td>    1.078</td> <td>    1.457</td>\n",
       "</tr>\n",
       "<tr>\n",
       "  <th>E</th>           <td>    1.4968</td> <td>    0.108</td> <td>   13.886</td> <td> 0.000</td> <td>    1.286</td> <td>    1.708</td>\n",
       "</tr>\n",
       "<tr>\n",
       "  <th>F</th>           <td>    1.6163</td> <td>    0.136</td> <td>   11.911</td> <td> 0.000</td> <td>    1.350</td> <td>    1.882</td>\n",
       "</tr>\n",
       "<tr>\n",
       "  <th>G</th>           <td>    1.6697</td> <td>    0.204</td> <td>    8.192</td> <td> 0.000</td> <td>    1.270</td> <td>    2.069</td>\n",
       "</tr>\n",
       "<tr>\n",
       "  <th>funded_amnt</th> <td> 1.421e-05</td> <td> 2.95e-06</td> <td>    4.821</td> <td> 0.000</td> <td> 8.43e-06</td> <td>    2e-05</td>\n",
       "</tr>\n",
       "<tr>\n",
       "  <th>annual_inc</th>  <td>-2.958e-06</td> <td> 6.04e-07</td> <td>   -4.899</td> <td> 0.000</td> <td>-4.14e-06</td> <td>-1.77e-06</td>\n",
       "</tr>\n",
       "<tr>\n",
       "  <th>issue_year</th>  <td>    0.0736</td> <td>    0.014</td> <td>    5.268</td> <td> 0.000</td> <td>    0.046</td> <td>    0.101</td>\n",
       "</tr>\n",
       "<tr>\n",
       "  <th>dti</th>         <td>    0.0199</td> <td>    0.003</td> <td>    7.881</td> <td> 0.000</td> <td>    0.015</td> <td>    0.025</td>\n",
       "</tr>\n",
       "<tr>\n",
       "  <th>fico_avg</th>    <td>   -0.0059</td> <td>    0.001</td> <td>   -6.935</td> <td> 0.000</td> <td>   -0.008</td> <td>   -0.004</td>\n",
       "</tr>\n",
       "<tr>\n",
       "  <th>emp_length</th>  <td>   -0.0196</td> <td>    0.005</td> <td>   -3.720</td> <td> 0.000</td> <td>   -0.030</td> <td>   -0.009</td>\n",
       "</tr>\n",
       "<tr>\n",
       "  <th>revol_bal</th>   <td>-2.805e-06</td> <td> 1.27e-06</td> <td>   -2.201</td> <td> 0.028</td> <td> -5.3e-06</td> <td>-3.07e-07</td>\n",
       "</tr>\n",
       "<tr>\n",
       "  <th>term_num</th>    <td>    0.0164</td> <td>    0.002</td> <td>    7.717</td> <td> 0.000</td> <td>    0.012</td> <td>    0.021</td>\n",
       "</tr>\n",
       "</table>"
      ],
      "text/plain": [
       "<class 'statsmodels.iolib.summary.Summary'>\n",
       "\"\"\"\n",
       "                           Logit Regression Results                           \n",
       "==============================================================================\n",
       "Dep. Variable:                default   No. Observations:                17483\n",
       "Model:                          Logit   Df Residuals:                    17468\n",
       "Method:                           MLE   Df Model:                           14\n",
       "Date:                Wed, 05 Feb 2020   Pseudo R-squ.:                 0.08081\n",
       "Time:                        11:49:41   Log-Likelihood:                -7999.8\n",
       "converged:                       True   LL-Null:                       -8703.2\n",
       "                                        LLR p-value:                6.066e-292\n",
       "===============================================================================\n",
       "                  coef    std err          z      P>|z|      [0.025      0.975]\n",
       "-------------------------------------------------------------------------------\n",
       "const        -147.3046     28.146     -5.234      0.000    -202.470     -92.139\n",
       "B               0.5327      0.090      5.931      0.000       0.357       0.709\n",
       "C               0.9332      0.091     10.306      0.000       0.756       1.111\n",
       "D               1.2677      0.097     13.118      0.000       1.078       1.457\n",
       "E               1.4968      0.108     13.886      0.000       1.286       1.708\n",
       "F               1.6163      0.136     11.911      0.000       1.350       1.882\n",
       "G               1.6697      0.204      8.192      0.000       1.270       2.069\n",
       "funded_amnt  1.421e-05   2.95e-06      4.821      0.000    8.43e-06       2e-05\n",
       "annual_inc  -2.958e-06   6.04e-07     -4.899      0.000   -4.14e-06   -1.77e-06\n",
       "issue_year      0.0736      0.014      5.268      0.000       0.046       0.101\n",
       "dti             0.0199      0.003      7.881      0.000       0.015       0.025\n",
       "fico_avg       -0.0059      0.001     -6.935      0.000      -0.008      -0.004\n",
       "emp_length     -0.0196      0.005     -3.720      0.000      -0.030      -0.009\n",
       "revol_bal   -2.805e-06   1.27e-06     -2.201      0.028    -5.3e-06   -3.07e-07\n",
       "term_num        0.0164      0.002      7.717      0.000       0.012       0.021\n",
       "===============================================================================\n",
       "\"\"\""
      ]
     },
     "execution_count": 6,
     "metadata": {},
     "output_type": "execute_result"
    }
   ],
   "source": [
    "#logistic regression\n",
    "X = lc[['B', 'C', 'D', 'E', 'F', 'G', 'funded_amnt', 'annual_inc', 'issue_year',\n",
    "       'dti', 'fico_avg', 'emp_length', 'revol_bal', 'term_num']]\n",
    "y = lc['default']\n",
    "X_train,X_test,y_train,y_test = train_test_split(X,y,test_size=0.3,random_state=3)\n",
    "\n",
    "X_train1=sm.tools.tools.add_constant(X_train)\n",
    "logit=sm.Logit(y_train,X_train1)\n",
    "\n",
    "result=logit.fit()\n",
    "result.summary()"
   ]
  },
  {
   "cell_type": "code",
   "execution_count": 8,
   "metadata": {},
   "outputs": [
    {
     "data": {
      "text/html": [
       "<div>\n",
       "<style scoped>\n",
       "    .dataframe tbody tr th:only-of-type {\n",
       "        vertical-align: middle;\n",
       "    }\n",
       "\n",
       "    .dataframe tbody tr th {\n",
       "        vertical-align: top;\n",
       "    }\n",
       "\n",
       "    .dataframe thead th {\n",
       "        text-align: right;\n",
       "    }\n",
       "</style>\n",
       "<table border=\"1\" class=\"dataframe\">\n",
       "  <thead>\n",
       "    <tr style=\"text-align: right;\">\n",
       "      <th></th>\n",
       "      <th>B</th>\n",
       "      <th>C</th>\n",
       "      <th>D</th>\n",
       "      <th>E</th>\n",
       "      <th>F</th>\n",
       "      <th>G</th>\n",
       "      <th>dti</th>\n",
       "      <th>fico_avg</th>\n",
       "      <th>emp_length</th>\n",
       "      <th>revol_bal</th>\n",
       "      <th>term_num</th>\n",
       "      <th>funded_amnt</th>\n",
       "      <th>annual_inc</th>\n",
       "      <th>issue_year</th>\n",
       "      <th>int_rate</th>\n",
       "      <th>default</th>\n",
       "    </tr>\n",
       "  </thead>\n",
       "  <tbody>\n",
       "    <tr>\n",
       "      <th>0</th>\n",
       "      <td>0.0000</td>\n",
       "      <td>0.0000</td>\n",
       "      <td>0.0</td>\n",
       "      <td>0.0000</td>\n",
       "      <td>0.0</td>\n",
       "      <td>0.0</td>\n",
       "      <td>0.436606</td>\n",
       "      <td>-4.1123</td>\n",
       "      <td>-0.0000</td>\n",
       "      <td>-0.043334</td>\n",
       "      <td>0.5904</td>\n",
       "      <td>0.206045</td>\n",
       "      <td>-0.173815</td>\n",
       "      <td>148.3040</td>\n",
       "      <td>7.89</td>\n",
       "      <td>0</td>\n",
       "    </tr>\n",
       "    <tr>\n",
       "      <th>1</th>\n",
       "      <td>0.5327</td>\n",
       "      <td>0.0000</td>\n",
       "      <td>0.0</td>\n",
       "      <td>0.0000</td>\n",
       "      <td>0.0</td>\n",
       "      <td>0.0</td>\n",
       "      <td>0.511032</td>\n",
       "      <td>-4.2893</td>\n",
       "      <td>-0.0196</td>\n",
       "      <td>-0.014457</td>\n",
       "      <td>0.5904</td>\n",
       "      <td>0.014210</td>\n",
       "      <td>-0.192270</td>\n",
       "      <td>148.4512</td>\n",
       "      <td>11.99</td>\n",
       "      <td>0</td>\n",
       "    </tr>\n",
       "    <tr>\n",
       "      <th>2</th>\n",
       "      <td>0.0000</td>\n",
       "      <td>0.0000</td>\n",
       "      <td>0.0</td>\n",
       "      <td>1.4968</td>\n",
       "      <td>0.0</td>\n",
       "      <td>0.0</td>\n",
       "      <td>0.118007</td>\n",
       "      <td>-3.9648</td>\n",
       "      <td>-0.1960</td>\n",
       "      <td>-0.050050</td>\n",
       "      <td>0.9840</td>\n",
       "      <td>0.238728</td>\n",
       "      <td>-0.192270</td>\n",
       "      <td>148.1568</td>\n",
       "      <td>21.70</td>\n",
       "      <td>0</td>\n",
       "    </tr>\n",
       "    <tr>\n",
       "      <th>3</th>\n",
       "      <td>0.0000</td>\n",
       "      <td>0.0000</td>\n",
       "      <td>0.0</td>\n",
       "      <td>1.4968</td>\n",
       "      <td>0.0</td>\n",
       "      <td>0.0</td>\n",
       "      <td>0.575309</td>\n",
       "      <td>-4.0828</td>\n",
       "      <td>-0.0392</td>\n",
       "      <td>-0.067673</td>\n",
       "      <td>0.9840</td>\n",
       "      <td>0.255780</td>\n",
       "      <td>-0.298758</td>\n",
       "      <td>148.3776</td>\n",
       "      <td>23.99</td>\n",
       "      <td>1</td>\n",
       "    </tr>\n",
       "    <tr>\n",
       "      <th>4</th>\n",
       "      <td>0.0000</td>\n",
       "      <td>0.9332</td>\n",
       "      <td>0.0</td>\n",
       "      <td>0.0000</td>\n",
       "      <td>0.0</td>\n",
       "      <td>0.0</td>\n",
       "      <td>0.495908</td>\n",
       "      <td>-3.9058</td>\n",
       "      <td>-0.1568</td>\n",
       "      <td>-0.113827</td>\n",
       "      <td>0.5904</td>\n",
       "      <td>0.369460</td>\n",
       "      <td>-0.192270</td>\n",
       "      <td>148.3040</td>\n",
       "      <td>12.29</td>\n",
       "      <td>0</td>\n",
       "    </tr>\n",
       "  </tbody>\n",
       "</table>\n",
       "</div>"
      ],
      "text/plain": [
       "        B       C    D       E    F    G       dti  fico_avg  emp_length  \\\n",
       "0  0.0000  0.0000  0.0  0.0000  0.0  0.0  0.436606   -4.1123     -0.0000   \n",
       "1  0.5327  0.0000  0.0  0.0000  0.0  0.0  0.511032   -4.2893     -0.0196   \n",
       "2  0.0000  0.0000  0.0  1.4968  0.0  0.0  0.118007   -3.9648     -0.1960   \n",
       "3  0.0000  0.0000  0.0  1.4968  0.0  0.0  0.575309   -4.0828     -0.0392   \n",
       "4  0.0000  0.9332  0.0  0.0000  0.0  0.0  0.495908   -3.9058     -0.1568   \n",
       "\n",
       "   revol_bal  term_num  funded_amnt  annual_inc  issue_year  int_rate  default  \n",
       "0  -0.043334    0.5904     0.206045   -0.173815    148.3040      7.89        0  \n",
       "1  -0.014457    0.5904     0.014210   -0.192270    148.4512     11.99        0  \n",
       "2  -0.050050    0.9840     0.238728   -0.192270    148.1568     21.70        0  \n",
       "3  -0.067673    0.9840     0.255780   -0.298758    148.3776     23.99        1  \n",
       "4  -0.113827    0.5904     0.369460   -0.192270    148.3040     12.29        0  "
      ]
     },
     "execution_count": 8,
     "metadata": {},
     "output_type": "execute_result"
    }
   ],
   "source": [
    "B1=lc[\"B\"]*0.5327\n",
    "C1=lc[\"C\"]*0.9332\n",
    "D1=lc[\"D\"]*1.2677\n",
    "E1=lc[\"E\"]*1.4968\n",
    "F1=lc[\"F\"]*1.6163\n",
    "G1=lc[\"G\"]*1.6697\n",
    "funded_amnt2=lc[\"funded_amnt\"]*(1.421e-05)\n",
    "annual_inc2=lc[\"annual_inc\"]*(-2.958e-06)\n",
    "issue_year2=lc[\"issue_year\"]*0.0736\n",
    "dti2=lc[\"dti\"]*0.0199\n",
    "fico_avg2=lc[\"fico_avg\"]*(-0.0059)\n",
    "emp_length2=lc[\"emp_length\"]*(-0.0196)\n",
    "revol_bal2=lc[\"revol_bal\"]*(-2.805e-06)\n",
    "term_num2=lc[\"term_num\"]*0.0164\n",
    "int_rate2=lc[\"int_rate\"]\n",
    "default2=lc[\"default\"]\n",
    "llc2=pd.concat([B1,C1,D1,E1,F1,G1,dti2,fico_avg2,emp_length2,revol_bal2,term_num2,funded_amnt2,annual_inc2,issue_year2,int_rate2,default2],axis=1)\n",
    "llc2.head()"
   ]
  },
  {
   "cell_type": "code",
   "execution_count": 9,
   "metadata": {},
   "outputs": [],
   "source": [
    "llc2.to_csv(\"0205llc2.csv\")"
   ]
  },
  {
   "cell_type": "code",
   "execution_count": 5,
   "metadata": {},
   "outputs": [
    {
     "data": {
      "image/png": "[encoded data removed]",
      "text/plain": [
       "<Figure size 432x288 with 1 Axes>"
      ]
     },
     "metadata": {
      "needs_background": "light"
     },
     "output_type": "display_data"
    }
   ],
   "source": [
    "llc2 = pd.read_csv(\"0205llc2.csv\")\n",
    "X = llc2[['B', 'C', 'D', 'E', 'F', 'G', 'funded_amnt', 'annual_inc', 'issue_year',\n",
    "       'dti', 'fico_avg', 'emp_length', 'revol_bal', 'term_num']]\n",
    "y = llc2['default']\n",
    "X_train,X_test,y_train,y_test = train_test_split(X,y,test_size=0.3,random_state=3)\n",
    "\n",
    "w = -147.3046+X_test['B']+X_test['C']+X_test['D']+X_test['E']+X_test['F']+X_test['G']+X_test['funded_amnt']+X_test['annual_inc']+X_test['issue_year']+X_test['dti']+X_test['fico_avg']+X_test['emp_length']+X_test['revol_bal']+X_test['term_num']\n",
    "y_scores = np.exp(w)/(np.exp(w)+1)\n",
    "fpr, tpr, threshold = roc_curve(y_test, y_scores)\n",
    "roc_auc = auc(fpr,tpr)\n",
    "\n",
    "plt.title('Receiver Operating Characteristic')\n",
    "plt.plot(fpr,tpr,'g',label = 'AUC = %0.6f' % roc_auc)\n",
    "plt.legend(loc = 'lower right')\n",
    "plt.plot([0, 1], [0, 1],'r--')\n",
    "plt.xlim([0, 1])\n",
    "plt.ylim([0, 1])\n",
    "plt.ylabel('True Positive Rate')\n",
    "plt.xlabel('False Positive Rate')\n",
    "plt.title('ROC Curve of Logistic Regression')\n",
    "plt.show()"
   ]
  },
  {
   "cell_type": "code",
   "execution_count": 4,
   "metadata": {},
   "outputs": [
    {
     "data": {
      "image/png": "[encoded data removed]",
      "text/plain": [
       "<Figure size 432x288 with 1 Axes>"
      ]
     },
     "metadata": {
      "needs_background": "light"
     },
     "output_type": "display_data"
    }
   ],
   "source": [
    "#decision tree AUC\n",
    "from sklearn.tree import DecisionTreeRegressor\n",
    "from sklearn.metrics import mean_absolute_error\n",
    "lc3 = pd.read_csv(\"lc2final仅default.csv\")\n",
    "X3 = lc.drop(columns=['default','int_rate'])\n",
    "y3 = lc['default'].values\n",
    "X3_train,X3_test,y3_train,y3_test = train_test_split(X3,y3,test_size=0.3,random_state=3)\n",
    "k_range = range(2,60)\n",
    "for k in k_range:\n",
    "    lc3_model = DecisionTreeRegressor(max_depth=k,random_state=3)\n",
    "    lc3_model.fit(X3_train,y3_train)\n",
    "    y3_scores = lc3_model.predict(X3_test)\n",
    "    fpr3, tpr3, threshold3 = roc_curve(y3_test, y3_scores)\n",
    "    roc_auc3 = auc(fpr3,tpr3)\n",
    "    plt.scatter(k,roc_auc3)\n",
    "plt.title('AUC for DecisionTree')\n",
    "plt.xlabel('max_depth=k')\n",
    "plt.ylabel('AUC')\n",
    "plt.show()"
   ]
  },
  {
   "cell_type": "code",
   "execution_count": 41,
   "metadata": {},
   "outputs": [
    {
     "data": {
      "image/png": "[encoded data removed]",
      "text/plain": [
       "<Figure size 432x288 with 1 Axes>"
      ]
     },
     "metadata": {
      "needs_background": "light"
     },
     "output_type": "display_data"
    }
   ],
   "source": [
    "#decision tree MAE\n",
    "from sklearn.tree import DecisionTreeRegressor\n",
    "from sklearn.metrics import mean_absolute_error\n",
    "lc3 = pd.read_csv(\"lc2final仅default.csv\")\n",
    "X3 = lc.drop(columns=['default','int_rate'])\n",
    "y3 = lc['default'].values\n",
    "X3_train,X3_test,y3_train,y3_test = train_test_split(X3,y3,test_size=0.3,random_state=3)\n",
    "k_range = range(2,60)\n",
    "for k in k_range:\n",
    "    lc3_model = DecisionTreeRegressor(max_depth=k,random_state=3)\n",
    "    lc3_model.fit(X3_train,y3_train)\n",
    "    y3_scores = lc3_model.predict(X3_train)\n",
    "    MAE1 = mean_absolute_error(y3_train,y3_scores)\n",
    "    plt.scatter(k,MAE1)\n",
    "plt.title('MAE--DecisionTree--training')\n",
    "plt.xlabel('max_depth=k')\n",
    "plt.ylabel('MAE')\n",
    "plt.show()"
   ]
  },
  {
   "cell_type": "code",
   "execution_count": 39,
   "metadata": {},
   "outputs": [
    {
     "data": {
      "image/png": "[encoded data removed]",
      "text/plain": [
       "<Figure size 432x288 with 1 Axes>"
      ]
     },
     "metadata": {
      "needs_background": "light"
     },
     "output_type": "display_data"
    }
   ],
   "source": [
    "#decision tree MAE\n",
    "from sklearn.tree import DecisionTreeRegressor\n",
    "from sklearn.metrics import mean_absolute_error\n",
    "lc3 = pd.read_csv(\"lc2final仅default.csv\")\n",
    "X3 = lc.drop(columns=['default','int_rate'])\n",
    "y3 = lc['default'].values\n",
    "X3_train,X3_test,y3_train,y3_test = train_test_split(X3,y3,test_size=0.3,random_state=3)\n",
    "k_range = range(2,60)\n",
    "for k in k_range:\n",
    "    lc3_model = DecisionTreeRegressor(max_depth=k,random_state=3)\n",
    "    lc3_model.fit(X3_train,y3_train)\n",
    "    y3_scores2 = lc3_model.predict(X3_test)\n",
    "    MAE2 = mean_absolute_error(y3_test,y3_scores2)\n",
    "    plt.scatter(k,MAE2)\n",
    "plt.title('MAE--DecisionTree--validation')\n",
    "plt.xlabel('max_depth=k')\n",
    "plt.ylabel('MAE')\n",
    "plt.show()"
   ]
  },
  {
   "cell_type": "code",
   "execution_count": 40,
   "metadata": {},
   "outputs": [
    {
     "data": {
      "image/png": "[encoded data removed]",
      "text/plain": [
       "<Figure size 432x288 with 1 Axes>"
      ]
     },
     "metadata": {
      "needs_background": "light"
     },
     "output_type": "display_data"
    }
   ],
   "source": [
    "#decision tree MAE\n",
    "from sklearn.tree import DecisionTreeRegressor\n",
    "from sklearn.metrics import mean_absolute_error\n",
    "lc3 = pd.read_csv(\"lc2final仅default.csv\")\n",
    "X3 = lc.drop(columns=['default','int_rate'])\n",
    "y3 = lc['default'].values\n",
    "X3_train,X3_test,y3_train,y3_test = train_test_split(X3,y3,test_size=0.3,random_state=3)\n",
    "k_range = range(2,40)\n",
    "for k in k_range:\n",
    "    lc3_model = DecisionTreeRegressor(max_depth=k,random_state=3)\n",
    "    lc3_model.fit(X3_train,y3_train)\n",
    "    y3_scores = lc3_model.predict(X3_train)\n",
    "    MAE1 = mean_absolute_error(y3_train,y3_scores)\n",
    "    y3_scores2 = lc3_model.predict(X3_test)\n",
    "    MAE2 = mean_absolute_error(y3_test,y3_scores2)\n",
    "    plt.scatter(k,MAE1)\n",
    "    plt.scatter(k,MAE2)\n",
    "plt.title('MAE for DecisionTree')\n",
    "plt.xlabel('max_depth=k')\n",
    "plt.ylabel('MAE')\n",
    "plt.show()"
   ]
  },
  {
   "cell_type": "code",
   "execution_count": 7,
   "metadata": {},
   "outputs": [
    {
     "data": {
      "image/png": "[encoded data removed]",
      "text/plain": [
       "<Figure size 432x288 with 1 Axes>"
      ]
     },
     "metadata": {
      "needs_background": "light"
     },
     "output_type": "display_data"
    }
   ],
   "source": [
    "#random forest AUC\n",
    "from sklearn.ensemble import RandomForestRegressor\n",
    "from sklearn.metrics import mean_absolute_error\n",
    "lc4 = pd.read_csv(\"lc2final仅default.csv\")\n",
    "X4 = lc4.drop(columns=['default','int_rate'])\n",
    "y4 = lc4['default'].values\n",
    "X4_train,X4_test,y4_train,y4_test = train_test_split(X4,y4,test_size=0.3,random_state=3)\n",
    "k_range = range(2,100)\n",
    "for k in k_range:\n",
    "    lc4_model = RandomForestRegressor(n_estimators=k,random_state=3)\n",
    "    lc4_model.fit(X4_train,y4_train)\n",
    "    y4_scores = lc4_model.predict(X4_test)\n",
    "    fpr4, tpr4, threshold4 = roc_curve(y4_test, y4_scores)\n",
    "    roc_auc4 = auc(fpr4,tpr4)\n",
    "    plt.scatter(k,roc_auc4)\n",
    "plt.title('AUC for random forest')\n",
    "plt.xlabel('n_estimators=k')\n",
    "plt.ylabel('AUC')\n",
    "plt.show()"
   ]
  },
  {
   "cell_type": "code",
   "execution_count": 6,
   "metadata": {},
   "outputs": [
    {
     "data": {
      "image/png": "[encoded data removed]",
      "text/plain": [
       "<Figure size 432x288 with 1 Axes>"
      ]
     },
     "metadata": {
      "needs_background": "light"
     },
     "output_type": "display_data"
    }
   ],
   "source": [
    "#random forest MAE\n",
    "k_range = range(2,100)\n",
    "for k in k_range:\n",
    "    lc4_model = RandomForestRegressor(n_estimators=k,random_state=3)\n",
    "    lc4_model.fit(X4_train,y4_train)\n",
    "    y4_scores = lc4_model.predict(X4_train)\n",
    "    MAE4 = mean_absolute_error(y4_train,y4_scores)\n",
    "    plt.scatter(k,MAE4)\n",
    "plt.title('MAE--RandomForest--training')\n",
    "plt.xlabel('n_estimators=k')\n",
    "plt.ylabel('MAE')\n",
    "plt.show()"
   ]
  },
  {
   "cell_type": "code",
   "execution_count": 11,
   "metadata": {},
   "outputs": [
    {
     "data": {
      "image/png": "[encoded data removed]",
      "text/plain": [
       "<Figure size 432x288 with 1 Axes>"
      ]
     },
     "metadata": {
      "needs_background": "light"
     },
     "output_type": "display_data"
    }
   ],
   "source": [
    "#random forest MAE\n",
    "k_range = range(2,60)\n",
    "for k in k_range:\n",
    "    lc4_model = RandomForestRegressor(n_estimators=k,random_state=3)\n",
    "    lc4_model.fit(X4_train,y4_train)\n",
    "    y4_scores = lc4_model.predict(X4_test)\n",
    "    MAE4 = mean_absolute_error(y4_test,y4_scores)\n",
    "    plt.scatter(k,MAE4)\n",
    "plt.title('MAE--RandomForest--validation')\n",
    "plt.xlabel('n_estimators=k')\n",
    "plt.ylabel('MAE')\n",
    "plt.show()"
   ]
  },
  {
   "cell_type": "code",
   "execution_count": 27,
   "metadata": {},
   "outputs": [
    {
     "data": {
      "image/png": "[encoded data removed]",
      "text/plain": [
       "<Figure size 432x288 with 1 Axes>"
      ]
     },
     "metadata": {
      "needs_background": "light"
     },
     "output_type": "display_data"
    }
   ],
   "source": [
    "#random forest AUC\n",
    "from sklearn.ensemble import RandomForestRegressor\n",
    "from sklearn.metrics import mean_absolute_error\n",
    "lc4 = pd.read_csv(\"lc2final仅default.csv\")\n",
    "X4 = lc4.drop(columns=['default','int_rate'])\n",
    "y4 = lc4['default'].values\n",
    "X4_train,X4_test,y4_train,y4_test = train_test_split(X4,y4,test_size=0.3,random_state=3)\n",
    "k_range = range(2,15)\n",
    "for k in k_range:\n",
    "    lc4_model = RandomForestRegressor(n_estimators=60,max_features=k,random_state=3)\n",
    "    lc4_model.fit(X4_train,y4_train)\n",
    "    y4_scores = lc4_model.predict(X4_test)\n",
    "    fpr4, tpr4, threshold4 = roc_curve(y4_test, y4_scores)\n",
    "    roc_auc4 = auc(fpr4,tpr4)\n",
    "    plt.scatter(k,roc_auc4)\n",
    "plt.title('AUC for random forest')\n",
    "plt.xlabel('max_features=k')\n",
    "plt.ylabel('AUC')\n",
    "plt.show()"
   ]
  },
  {
   "cell_type": "code",
   "execution_count": 28,
   "metadata": {},
   "outputs": [
    {
     "data": {
      "image/png": "[encoded data removed]",
      "text/plain": [
       "<Figure size 432x288 with 1 Axes>"
      ]
     },
     "metadata": {
      "needs_background": "light"
     },
     "output_type": "display_data"
    }
   ],
   "source": [
    "#random forest MAE\n",
    "k_range = range(2,15)\n",
    "for k in k_range:\n",
    "    lc4_model = RandomForestRegressor(n_estimators=60,max_features=k,random_state=3)\n",
    "    lc4_model.fit(X4_train,y4_train)\n",
    "    y4_scores = lc4_model.predict(X4_train)\n",
    "    MAE4 = mean_absolute_error(y4_train,y4_scores)\n",
    "    plt.scatter(k,MAE4)\n",
    "plt.title('MAE--RandomForest--training')\n",
    "plt.xlabel('max_features=k')\n",
    "plt.ylabel('MAE')\n",
    "plt.show()"
   ]
  },
  {
   "cell_type": "code",
   "execution_count": 29,
   "metadata": {},
   "outputs": [
    {
     "data": {
      "image/png": "[encoded data removed]",
      "text/plain": [
       "<Figure size 432x288 with 1 Axes>"
      ]
     },
     "metadata": {
      "needs_background": "light"
     },
     "output_type": "display_data"
    }
   ],
   "source": [
    "#random forest MAE\n",
    "k_range = range(2,15)\n",
    "for k in k_range:\n",
    "    lc4_model = RandomForestRegressor(n_estimators=60,max_features=k,random_state=3)\n",
    "    lc4_model.fit(X4_train,y4_train)\n",
    "    y4_scores = lc4_model.predict(X4_test)\n",
    "    MAE4 = mean_absolute_error(y4_test,y4_scores)\n",
    "    plt.scatter(k,MAE4)\n",
    "plt.title('MAE--RandomForest--validation')\n",
    "plt.xlabel('max_features=k')\n",
    "plt.ylabel('MAE')\n",
    "plt.show()"
   ]
  },
  {
   "cell_type": "code",
   "execution_count": null,
   "metadata": {},
   "outputs": [],
   "source": [
    "##############合并尝试"
   ]
  },
  {
   "cell_type": "code",
   "execution_count": 22,
   "metadata": {},
   "outputs": [
    {
     "data": {
      "image/png": "[encoded data removed]",
      "text/plain": [
       "<Figure size 432x288 with 1 Axes>"
      ]
     },
     "metadata": {
      "needs_background": "light"
     },
     "output_type": "display_data"
    }
   ],
   "source": [
    "#KNN, k=30, ROC Curve Drawing\n",
    "lc = pd.read_csv(\"lc2final仅default.csv\")\n",
    "X1 = lc.drop(columns=['default','int_rate'])\n",
    "y1 = lc['default'].values\n",
    "X1_train,X1_test,y1_train,y1_test = train_test_split(X1,y1,test_size=0.3,random_state=3)\n",
    "\n",
    "knn = KNeighborsClassifier(n_neighbors = 30)\n",
    "knn.fit(X1_train,y1_train)\n",
    "y1_scores = knn.predict_proba(X1_test)\n",
    "fpr1,tpr1,threshold1 = roc_curve(y1_test, y1_scores[:, 1])\n",
    "roc_auc1 = auc(fpr1,tpr1)\n",
    "\n",
    "#LR  ROC Curves\n",
    "llc2 = pd.read_csv(\"0205llc2.csv\")\n",
    "X2 = llc2[['B', 'C', 'D', 'E', 'F', 'G', 'funded_amnt', 'annual_inc', 'issue_year',\n",
    "       'dti', 'fico_avg', 'emp_length', 'revol_bal', 'term_num']]\n",
    "y2 = llc2['default']\n",
    "X2_train,X2_test,y2_train,y2_test = train_test_split(X2,y2,test_size=0.3,random_state=3)\n",
    "\n",
    "w = -147.3046+X2_test['B']+X2_test['C']+X2_test['D']+X2_test['E']+X2_test['F']+X2_test['G']+X2_test['funded_amnt']+X2_test['annual_inc']+X2_test['issue_year']+X2_test['dti']+X2_test['fico_avg']+X2_test['emp_length']+X2_test['revol_bal']+X2_test['term_num']\n",
    "y2_scores = np.exp(w)/(np.exp(w)+1)\n",
    "fpr2,tpr2,threshold2 = roc_curve(y2_test, y2_scores)\n",
    "roc_auc2 = auc(fpr2,tpr2)\n",
    "\n",
    "#decision tree\n",
    "lc3 = lc\n",
    "X3 = X1\n",
    "y3 = y1\n",
    "X3_train,X3_test,y3_train,y3_test = train_test_split(X3,y3,test_size=0.3,random_state=3)\n",
    "from sklearn.tree import DecisionTreeRegressor\n",
    "lc3_model = DecisionTreeRegressor(max_depth=10,random_state=3)\n",
    "lc3_model.fit(X3_train,y3_train)\n",
    "y3_scores = lc3_model.predict(X3_test)\n",
    "fpr3,tpr3,threshold3 = roc_curve(y3_test, y3_scores)\n",
    "roc_auc3 = auc(fpr3,tpr3)\n",
    "\n",
    "#random forest\n",
    "lc4 = lc3\n",
    "X4 = X3\n",
    "y4 = y3\n",
    "X4_train,X4_test,y4_train,y4_test = train_test_split(X4,y4,test_size=0.3,random_state=3)\n",
    "from sklearn.ensemble import RandomForestRegressor\n",
    "lc4_model = RandomForestRegressor(n_estimators=60,max_features=2,random_state=3)\n",
    "lc4_model.fit(X4_train,y4_train)\n",
    "y4_scores = lc4_model.predict(X4_test)\n",
    "fpr4,tpr4,threshold4 = roc_curve(y4_test, y4_scores)\n",
    "roc_auc4 = auc(fpr4,tpr4)\n",
    "\n",
    "plt.title('Receiver Operating Characteristic')\n",
    "plt.plot(fpr2,tpr2,'g',label = 'AUC-LogitRregressor = %0.8f' % roc_auc2)\n",
    "plt.plot(fpr1,tpr1,'y',label = 'AUC-KNN(k=30) = %0.8f' % roc_auc1)\n",
    "plt.plot(fpr3,tpr3,'b',label = 'AUC-DecisionTree(d=10) = %0.8f' % roc_auc3)\n",
    "plt.plot(fpr4,tpr4,'orange',label = 'AUC-RandomForest(n=60,f=2) = %0.8f' % roc_auc4)\n",
    "plt.legend(loc = 'lower right')\n",
    "plt.plot([0, 1], [0, 1],'r--')\n",
    "plt.xlim([0, 1])\n",
    "plt.ylim([0, 1])\n",
    "plt.ylabel('True Positive Rate')\n",
    "plt.xlabel('False Positive Rate')\n",
    "plt.title('ROC Curve--KNN & LR & DT & RF')\n",
    "plt.show()"
   ]
  },
  {
   "cell_type": "code",
   "execution_count": 19,
   "metadata": {},
   "outputs": [
    {
     "name": "stdout",
     "output_type": "stream",
     "text": [
      "0.19829196690685882\n",
      "0.19909260741926874\n",
      "0.2910867774086072\n",
      "0.296043501467841\n"
     ]
    }
   ],
   "source": [
    "import pandas as pd\n",
    "import numpy as np\n",
    "from sklearn.tree import DecisionTreeRegressor\n",
    "from sklearn.metrics import mean_absolute_error\n",
    "\n",
    "#LR  ROC Curves\n",
    "llc2 = pd.read_csv(\"0205llc2.csv\")\n",
    "X2 = llc2[['B', 'C', 'D', 'E', 'F', 'G', 'funded_amnt', 'annual_inc', 'issue_year',\n",
    "       'dti', 'fico_avg', 'emp_length', 'revol_bal', 'term_num']]\n",
    "y2 = llc2['default']\n",
    "X2_train,X2_test,y2_train,y2_test = train_test_split(X2,y2,test_size=0.3,random_state=3)\n",
    "\n",
    "w = -147.3046+X2_test['B']+X2_test['C']+X2_test['D']+X2_test['E']+X2_test['F']+X2_test['G']+X2_test['funded_amnt']+X2_test['annual_inc']+X2_test['issue_year']+X2_test['dti']+X2_test['fico_avg']+X2_test['emp_length']+X2_test['revol_bal']+X2_test['term_num']\n",
    "y2_scores = np.exp(w)/(np.exp(w)+1)\n",
    "y2_scores2 = np.rint(y2_scores)\n",
    "MAE2 = mean_absolute_error(y2_test,y2_scores2)\n",
    "print(MAE2)\n",
    "\n",
    "#KNN, k=30, ROC Curve Drawing\n",
    "lc = pd.read_csv(\"lc2final仅default.csv\")\n",
    "X1 = lc.drop(columns=['default','int_rate'])\n",
    "y1 = lc['default'].values\n",
    "X1_train,X1_test,y1_train,y1_test = train_test_split(X1,y1,test_size=0.3,random_state=3)\n",
    "\n",
    "knn = KNeighborsClassifier(n_neighbors = 30)\n",
    "knn.fit(X1_train,y1_train)\n",
    "y1_scores = knn.predict(X1_test)\n",
    "MAE1 = mean_absolute_error(y1_test,y1_scores)\n",
    "print(MAE1)\n",
    "\n",
    "#decision tree\n",
    "lc3 = lc\n",
    "X3 = X1\n",
    "y3 = y1\n",
    "X3_train,X3_test,y3_train,y3_test = train_test_split(X3,y3,test_size=0.3,random_state=3)\n",
    "lc3_model = DecisionTreeRegressor(max_depth=10,random_state=3)\n",
    "lc3_model.fit(X3_train,y3_train)\n",
    "y3_scores = lc3_model.predict(X3_test)\n",
    "MAE3 = mean_absolute_error(y3_test,y3_scores)\n",
    "print(MAE3)\n",
    "\n",
    "#random forest\n",
    "lc4 = lc3\n",
    "X4 = X3\n",
    "y4 = y3\n",
    "X4_train,X4_test,y4_train,y4_test = train_test_split(X4,y4,test_size=0.3,random_state=3)\n",
    "from sklearn.ensemble import RandomForestRegressor\n",
    "lc4_model = RandomForestRegressor(n_estimators=60,max_features=2,random_state=3)\n",
    "lc4_model.fit(X4_train,y4_train)\n",
    "y4_scores = lc4_model.predict(X4_test)\n",
    "MAE4 = mean_absolute_error(y4_test,y4_scores)\n",
    "print(MAE4)"
   ]
  },
  {
   "cell_type": "code",
   "execution_count": null,
   "metadata": {},
   "outputs": [],
   "source": [
    "aaa = pd.read_csv(\"\")"
   ]
  },
  {
   "cell_type": "code",
   "execution_count": 17,
   "metadata": {},
   "outputs": [],
   "source": [
    "#KNN probability\n",
    "lc = pd.read_csv(\"lc2final仅default.csv\")\n",
    "X = lc.drop(columns=['default','int_rate'])\n",
    "y = lc['default'].values\n",
    "X_train,X_test,y_train,y_test = train_test_split(X,y,test_size=0.3,random_state=3)\n",
    "knn = KNeighborsClassifier(n_neighbors = 30)\n",
    "knn.fit(X_train,y_train)\n",
    "y_scores = knn.predict_proba(X_test)\n",
    "kkk = y_scores[:,1]\n",
    "dataframe = pd.DataFrame(kkk)\n",
    "dataframe.to_csv('probability0212.csv',mode = 'a',index=0,header=1)\n",
    "X_test.to_csv(\"X_test.csv\")"
   ]
  },
  {
   "cell_type": "code",
   "execution_count": 19,
   "metadata": {},
   "outputs": [],
   "source": [
    "#KNN probability\n",
    "lc = pd.read_csv(\"lc2final仅default.csv\")\n",
    "X = lc.drop(columns=['default','int_rate'])\n",
    "y = lc['default'].values\n",
    "X_train,X_test,y_train,y_test = train_test_split(X,y,test_size=0.3,random_state=3)\n",
    "knn = KNeighborsClassifier(n_neighbors = 30)\n",
    "knn.fit(X_train,y_train)\n",
    "y_scores = knn.predict_proba(X_test)\n",
    "kkk = y_scores[:,1]\n",
    "dataframe = pd.DataFrame(kkk)\n",
    "dataframe.to_csv('probability021202.csv',mode = 'a',index=0,header=1)"
   ]
  },
  {
   "cell_type": "code",
   "execution_count": 22,
   "metadata": {
    "scrolled": true
   },
   "outputs": [],
   "source": [
    "a = pd.DataFrame(y_test)\n",
    "a.to_csv(\"y_test.csv\")"
   ]
  }
 ],
 "metadata": {
  "kernelspec": {
   "display_name": "Python 3",
   "language": "python",
   "name": "python3"
  },
  "language_info": {
   "codemirror_mode": {
    "name": "ipython",
    "version": 3
   },
   "file_extension": ".py",
   "mimetype": "text/x-python",
   "name": "python",
   "nbconvert_exporter": "python",
   "pygments_lexer": "ipython3",
   "version": "3.7.3"
  }
 },
 "nbformat": 4,
 "nbformat_minor": 2
}
